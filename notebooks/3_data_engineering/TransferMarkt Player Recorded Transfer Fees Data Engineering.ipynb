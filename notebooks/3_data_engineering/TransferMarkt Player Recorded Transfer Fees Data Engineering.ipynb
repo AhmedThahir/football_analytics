{
 "cells": [
  {
   "cell_type": "markdown",
   "metadata": {},
   "source": [
    "<a id='top'></a>"
   ]
  },
  {
   "cell_type": "markdown",
   "metadata": {},
   "source": [
    "# Data Engineering of TransferMarkt Data\n",
    "##### Notebook to engineer data scraped from [TransferMarkt](https://www.transfermarkt.co.uk/) by [ewenme](https://github.com/ewenme/transfers).\n",
    "\n",
    "### By [Edd Webster](https://www.twitter.com/eddwebster)\n",
    "Notebook first written: 03/08/2021<br>\n",
    "Notebook last updated: 03/08/2021\n",
    "\n",
    "![title](../../img/transfermarkt-logo-banner.png)"
   ]
  },
  {
   "cell_type": "markdown",
   "metadata": {},
   "source": [
    "___\n",
    "\n",
    "<a id='sectionintro'></a>\n",
    "\n",
    "## <a id='import_libraries'>Introduction</a>\n",
    "This notebook engineers transfer data data from [TransferMarkt](https://www.transfermarkt.co.uk/) provided by [ewenme](https://github.com/ewenme/transfers), and manipulates this landed data as DataFrames using [pandas](http://pandas.pydata.org/) and [matplotlib](https://matplotlib.org/) for visualisation.\n",
    "\n",
    "For more information about this notebook and the author, I'm available through all the following channels:\n",
    "*    [eddwebster.com](https://www.eddwebster.com/);\n",
    "*    edd.j.webster@gmail.com;\n",
    "*    [@eddwebster](https://www.twitter.com/eddwebster);\n",
    "*    [linkedin.com/in/eddwebster](https://www.linkedin.com/in/eddwebster/);\n",
    "*    [github/eddwebster](https://github.com/eddwebster/);\n",
    "*    [public.tableau.com/profile/edd.webster](https://public.tableau.com/profile/edd.webster);\n",
    "*    [kaggle.com/eddwebster](https://www.kaggle.com/eddwebster); and\n",
    "*    [hackerrank.com/eddwebster](https://www.hackerrank.com/eddwebster)."
   ]
  },
  {
   "cell_type": "markdown",
   "metadata": {},
   "source": [
    "![title](../../img/fifa21eddwebsterbanner.png)"
   ]
  },
  {
   "cell_type": "markdown",
   "metadata": {},
   "source": [
    "The accompanying GitHub repository for this notebook can be found [here](https://github.com/eddwebster/football_analytics) and a static version of this notebook can be found [here](https://nbviewer.jupyter.org/github/eddwebster/football_analytics/blob/master/notebooks/A%29%20Web%20Scraping/TransferMarkt%20Web%20Scraping%20and%20Parsing.ipynb)."
   ]
  },
  {
   "cell_type": "markdown",
   "metadata": {},
   "source": [
    "___\n",
    "\n",
    "<a id='sectioncontents'></a>\n",
    "\n",
    "## <a id='notebook_contents'>Notebook Contents</a>\n",
    "1.    [Notebook Dependencies](#section1)<br>\n",
    "2.    [Project Brief](#section2)<br>\n",
    "3.    [Data Sources](#section3)<br>\n",
    "      1.    [Introduction](#section3.1)<br>\n",
    "      2.    [Data Dictionary](#section3.2)<br>\n",
    "      3.    [Creating the DataFrame](#section3.3)<br>\n",
    "      4.    [Initial Data Handling](#section3.4)<br>\n",
    "      5.    [Export the Raw DataFrame](#section3.5)<br>         \n",
    "4.    [Data Engineering](#section4)<br>\n",
    "      1.    [Introduction](#section4.1)<br>\n",
    "      2.    [Columns of Interest](#section4.2)<br>\n",
    "      3.    [String Cleaning](#section4.3)<br>\n",
    "      4.    [Converting Data Types](#section4.4)<br>\n",
    "      5.    [Export the Engineered DataFrame](#section4.5)<br>\n",
    "5.    [Exploratory Data Analysis (EDA)](#section5)<br>\n",
    "      1.    [...](#section5.1)<br>\n",
    "      2.    [...](#section5.2)<br>\n",
    "      3.    [...](#section5.3)<br>\n",
    "6.    [Summary](#section6)<br>\n",
    "7.    [Next Steps](#section7)<br>\n",
    "8.    [Bibliography](#section8)<br>"
   ]
  },
  {
   "cell_type": "markdown",
   "metadata": {},
   "source": [
    "___\n",
    "\n",
    "<a id='section1'></a>\n",
    "\n",
    "## <a id='#section1'>1. Notebook Dependencies</a>\n",
    "\n",
    "This notebook was written using [Python 3](https://docs.python.org/3.7/) and requires the following libraries:\n",
    "*    [`Jupyter notebooks`](https://jupyter.org/) for this notebook environment with which this project is presented;\n",
    "*    [`NumPy`](http://www.numpy.org/) for multidimensional array computing;\n",
    "*    [`pandas`](http://pandas.pydata.org/) for data analysis and manipulation;\n",
    "*    [`Beautifulsoup`](https://pypi.org/project/beautifulsoup4/) for web scraping; and\n",
    "*    [`matplotlib`](https://matplotlib.org/contents.html?v=20200411155018) for data visualisations;\n",
    "\n",
    "All packages used for this notebook except for BeautifulSoup can be obtained by downloading and installing the [Conda](https://anaconda.org/anaconda/conda) distribution, available on all platforms (Windows, Linux and Mac OSX). Step-by-step guides on how to install Anaconda can be found for Windows [here](https://medium.com/@GalarnykMichael/install-python-on-windows-anaconda-c63c7c3d1444) and Mac [here](https://medium.com/@GalarnykMichael/install-python-on-mac-anaconda-ccd9f2014072), as well as in the Anaconda documentation itself [here](https://docs.anaconda.com/anaconda/install/)."
   ]
  },
  {
   "cell_type": "markdown",
   "metadata": {},
   "source": [
    "### Import Libraries and Modules"
   ]
  },
  {
   "cell_type": "code",
   "execution_count": 2,
   "metadata": {},
   "outputs": [
    {
     "name": "stdout",
     "output_type": "stream",
     "text": [
      "Setup Complete\n"
     ]
    }
   ],
   "source": [
    "# Python ≥3.5 (ideally)\n",
    "import platform\n",
    "import sys, getopt\n",
    "assert sys.version_info >= (3, 5)\n",
    "import csv\n",
    "\n",
    "# Import Dependencies\n",
    "%matplotlib inline\n",
    "\n",
    "# Math Operations\n",
    "import numpy as np\n",
    "import math\n",
    "from math import pi\n",
    "\n",
    "# Datetime\n",
    "import datetime\n",
    "from datetime import date\n",
    "import time\n",
    "\n",
    "# Data Preprocessing\n",
    "import pandas as pd\n",
    "import os\n",
    "import re\n",
    "import random\n",
    "from io import BytesIO\n",
    "from pathlib import Path\n",
    "\n",
    "# Reading directories\n",
    "import glob\n",
    "import os\n",
    "from os.path import basename\n",
    "\n",
    "# Flatten lists\n",
    "from functools import reduce\n",
    "\n",
    "# Working with JSON\n",
    "import json\n",
    "from pandas.io.json import json_normalize\n",
    "\n",
    "# Web Scraping\n",
    "import requests\n",
    "from bs4 import BeautifulSoup\n",
    "import re\n",
    "\n",
    "# Currency Convert\n",
    "from forex_python.converter import CurrencyRates\n",
    "\n",
    "# APIs\n",
    "from tyrone_mings import * \n",
    "\n",
    "# Fuzzy Matching - Record Linkage\n",
    "import recordlinkage\n",
    "import jellyfish\n",
    "import numexpr as ne\n",
    "\n",
    "# Data Visualisation\n",
    "import matplotlib as mpl\n",
    "import matplotlib.pyplot as plt\n",
    "import seaborn as sns\n",
    "plt.style.use('seaborn-whitegrid')\n",
    "import missingno as msno\n",
    "\n",
    "# Progress Bar\n",
    "from tqdm import tqdm\n",
    "\n",
    "# Display in Jupyter\n",
    "from IPython.display import Image, YouTubeVideo\n",
    "from IPython.core.display import HTML\n",
    "\n",
    "# Ignore Warnings\n",
    "import warnings\n",
    "warnings.filterwarnings(action=\"ignore\", message=\"^internal gelsd\")\n",
    "\n",
    "print('Setup Complete')"
   ]
  },
  {
   "cell_type": "code",
   "execution_count": 3,
   "metadata": {
    "scrolled": false
   },
   "outputs": [
    {
     "name": "stdout",
     "output_type": "stream",
     "text": [
      "Python: 3.7.6\n",
      "NumPy: 1.18.0\n",
      "pandas: 1.2.0\n",
      "matplotlib: 3.3.2\n",
      "Seaborn: 0.11.1\n"
     ]
    }
   ],
   "source": [
    "# Python / module versions used here for reference\n",
    "print('Python: {}'.format(platform.python_version()))\n",
    "print('NumPy: {}'.format(np.__version__))\n",
    "print('pandas: {}'.format(pd.__version__))\n",
    "print('matplotlib: {}'.format(mpl.__version__))\n",
    "print('Seaborn: {}'.format(sns.__version__))"
   ]
  },
  {
   "cell_type": "markdown",
   "metadata": {},
   "source": [
    "### Defined Variables"
   ]
  },
  {
   "cell_type": "code",
   "execution_count": 4,
   "metadata": {},
   "outputs": [],
   "source": [
    "# Define today's date\n",
    "today = datetime.datetime.now().strftime('%d/%m/%Y').replace('/', '')"
   ]
  },
  {
   "cell_type": "markdown",
   "metadata": {},
   "source": [
    "### Defined Filepaths"
   ]
  },
  {
   "cell_type": "code",
   "execution_count": 5,
   "metadata": {},
   "outputs": [],
   "source": [
    "# Set up initial paths to subfolders\n",
    "base_dir = os.path.join('..', '..', )\n",
    "data_dir = os.path.join(base_dir, 'data')\n",
    "data_dir_tm = os.path.join(base_dir, 'data', 'tm')\n",
    "img_dir = os.path.join(base_dir, 'img')\n",
    "fig_dir = os.path.join(base_dir, 'img', 'fig')\n",
    "video_dir = os.path.join(base_dir, 'video')"
   ]
  },
  {
   "cell_type": "markdown",
   "metadata": {},
   "source": [
    "### Notebook Settings"
   ]
  },
  {
   "cell_type": "code",
   "execution_count": 6,
   "metadata": {},
   "outputs": [],
   "source": [
    "pd.set_option('display.max_columns', None)"
   ]
  },
  {
   "cell_type": "markdown",
   "metadata": {},
   "source": [
    "---\n",
    "\n",
    "<a id='section2'></a>\n",
    "\n",
    "## <a id='#section2'>2. Project Brief</a>\n",
    "This Jupyter notebook engineered scraped football data from [TransferMarkt](https://www.transfermarkt.co.uk/) using [pandas](http://pandas.pydata.org/) for data manipulation through DataFrames.\n",
    "\n",
    "The data of player values produced in this notebook is exported to CSV. This data can be further analysed in Python, joined to other datasets, or explored using dashboarding tools such as Tableau or PowerBI, or explores in a spreadsheet such as Microsoft Excel or Google Sheets."
   ]
  },
  {
   "cell_type": "markdown",
   "metadata": {},
   "source": [
    "---\n",
    "\n",
    "<a id='section3'></a>\n",
    "\n",
    "## <a id='#section3'>3. Data Sources</a>"
   ]
  },
  {
   "cell_type": "markdown",
   "metadata": {},
   "source": [
    "<a id='section3.1'></a>\n",
    "\n",
    "### <a id='#section3.1'>3.1. Introduction</a>\n",
    "[TransferMarkt](https://www.transfermarkt.co.uk/) is a German-based website owned by [Axel Springer](https://www.axelspringer.com/en/) and is the leading website for the football transfer market. The website posts football related data, including: scores and results, football news, transfer rumours, and most usefully for us - calculated estimates ofthe market values for teams and individual players.\n",
    "\n",
    "To read more about how these estimations are made, [Beyond crowd judgments: Data-driven estimation of market value in association football](https://www.sciencedirect.com/science/article/pii/S0377221717304332) by Oliver Müllera, Alexander Simons, and Markus Weinmann does an excellent job of explaining how the estimations are made and their level of accuracy.\n",
    "\n",
    "Before conducting our EDA, the data needs to be imported as a DataFrame in the Data Sources section [Section 3](#section3) and cleaned in the Data Engineering section [Section 4](#section4).\n",
    "\n",
    "We'll be using the [pandas](http://pandas.pydata.org/) library to import our data to this workbook as a DataFrame."
   ]
  },
  {
   "cell_type": "markdown",
   "metadata": {},
   "source": [
    "<a id='section3.1'></a>\n",
    "\n",
    "### <a id='#section3.2'>3.2. Read in Data</a>"
   ]
  },
  {
   "cell_type": "code",
   "execution_count": 9,
   "metadata": {},
   "outputs": [
    {
     "data": {
      "text/plain": [
       "['../../data/tm/raw/transfers/2013/italian_serie_a.csv',\n",
       " '../../data/tm/raw/transfers/2013/english_premier_league.csv',\n",
       " '../../data/tm/raw/transfers/2013/english_championship.csv',\n",
       " '../../data/tm/raw/transfers/2013/french_ligue_1.csv',\n",
       " '../../data/tm/raw/transfers/2013/portugese_liga_nos.csv',\n",
       " '../../data/tm/raw/transfers/2013/german_bundesliga_1.csv',\n",
       " '../../data/tm/raw/transfers/2013/spanish_primera_division.csv',\n",
       " '../../data/tm/raw/transfers/2013/dutch_eredivisie.csv',\n",
       " '../../data/tm/raw/transfers/2013/russian_premier_liga.csv',\n",
       " '../../data/tm/raw/transfers/2014/italian_serie_a.csv',\n",
       " '../../data/tm/raw/transfers/2014/english_premier_league.csv',\n",
       " '../../data/tm/raw/transfers/2014/english_championship.csv',\n",
       " '../../data/tm/raw/transfers/2014/french_ligue_1.csv',\n",
       " '../../data/tm/raw/transfers/2014/portugese_liga_nos.csv',\n",
       " '../../data/tm/raw/transfers/2014/german_bundesliga_1.csv',\n",
       " '../../data/tm/raw/transfers/2014/spanish_primera_division.csv',\n",
       " '../../data/tm/raw/transfers/2014/dutch_eredivisie.csv',\n",
       " '../../data/tm/raw/transfers/2014/russian_premier_liga.csv',\n",
       " '../../data/tm/raw/transfers/2015/italian_serie_a.csv',\n",
       " '../../data/tm/raw/transfers/2015/english_premier_league.csv',\n",
       " '../../data/tm/raw/transfers/2015/english_championship.csv',\n",
       " '../../data/tm/raw/transfers/2015/french_ligue_1.csv',\n",
       " '../../data/tm/raw/transfers/2015/portugese_liga_nos.csv',\n",
       " '../../data/tm/raw/transfers/2015/german_bundesliga_1.csv',\n",
       " '../../data/tm/raw/transfers/2015/spanish_primera_division.csv',\n",
       " '../../data/tm/raw/transfers/2015/dutch_eredivisie.csv',\n",
       " '../../data/tm/raw/transfers/2015/russian_premier_liga.csv',\n",
       " '../../data/tm/raw/transfers/2012/italian_serie_a.csv',\n",
       " '../../data/tm/raw/transfers/2012/english_premier_league.csv',\n",
       " '../../data/tm/raw/transfers/2012/english_championship.csv',\n",
       " '../../data/tm/raw/transfers/2012/french_ligue_1.csv',\n",
       " '../../data/tm/raw/transfers/2012/portugese_liga_nos.csv',\n",
       " '../../data/tm/raw/transfers/2012/german_bundesliga_1.csv',\n",
       " '../../data/tm/raw/transfers/2012/spanish_primera_division.csv',\n",
       " '../../data/tm/raw/transfers/2012/dutch_eredivisie.csv',\n",
       " '../../data/tm/raw/transfers/2012/russian_premier_liga.csv',\n",
       " '../../data/tm/raw/transfers/1993/italian_serie_a.csv',\n",
       " '../../data/tm/raw/transfers/1993/english_premier_league.csv',\n",
       " '../../data/tm/raw/transfers/1993/english_championship.csv',\n",
       " '../../data/tm/raw/transfers/1993/french_ligue_1.csv',\n",
       " '../../data/tm/raw/transfers/1993/portugese_liga_nos.csv',\n",
       " '../../data/tm/raw/transfers/1993/german_bundesliga_1.csv',\n",
       " '../../data/tm/raw/transfers/1993/spanish_primera_division.csv',\n",
       " '../../data/tm/raw/transfers/1993/dutch_eredivisie.csv',\n",
       " '../../data/tm/raw/transfers/1993/russian_premier_liga.csv',\n",
       " '../../data/tm/raw/transfers/1994/italian_serie_a.csv',\n",
       " '../../data/tm/raw/transfers/1994/english_premier_league.csv',\n",
       " '../../data/tm/raw/transfers/1994/english_championship.csv',\n",
       " '../../data/tm/raw/transfers/1994/french_ligue_1.csv',\n",
       " '../../data/tm/raw/transfers/1994/portugese_liga_nos.csv',\n",
       " '../../data/tm/raw/transfers/1994/german_bundesliga_1.csv',\n",
       " '../../data/tm/raw/transfers/1994/spanish_primera_division.csv',\n",
       " '../../data/tm/raw/transfers/1994/dutch_eredivisie.csv',\n",
       " '../../data/tm/raw/transfers/1994/russian_premier_liga.csv',\n",
       " '../../data/tm/raw/transfers/1995/italian_serie_a.csv',\n",
       " '../../data/tm/raw/transfers/1995/english_premier_league.csv',\n",
       " '../../data/tm/raw/transfers/1995/english_championship.csv',\n",
       " '../../data/tm/raw/transfers/1995/french_ligue_1.csv',\n",
       " '../../data/tm/raw/transfers/1995/portugese_liga_nos.csv',\n",
       " '../../data/tm/raw/transfers/1995/german_bundesliga_1.csv',\n",
       " '../../data/tm/raw/transfers/1995/spanish_primera_division.csv',\n",
       " '../../data/tm/raw/transfers/1995/dutch_eredivisie.csv',\n",
       " '../../data/tm/raw/transfers/1995/russian_premier_liga.csv',\n",
       " '../../data/tm/raw/transfers/1992/italian_serie_a.csv',\n",
       " '../../data/tm/raw/transfers/1992/english_premier_league.csv',\n",
       " '../../data/tm/raw/transfers/1992/english_championship.csv',\n",
       " '../../data/tm/raw/transfers/1992/french_ligue_1.csv',\n",
       " '../../data/tm/raw/transfers/1992/portugese_liga_nos.csv',\n",
       " '../../data/tm/raw/transfers/1992/german_bundesliga_1.csv',\n",
       " '../../data/tm/raw/transfers/1992/spanish_primera_division.csv',\n",
       " '../../data/tm/raw/transfers/1992/dutch_eredivisie.csv',\n",
       " '../../data/tm/raw/transfers/1992/russian_premier_liga.csv',\n",
       " '../../data/tm/raw/transfers/2008/italian_serie_a.csv',\n",
       " '../../data/tm/raw/transfers/2008/english_premier_league.csv',\n",
       " '../../data/tm/raw/transfers/2008/english_championship.csv',\n",
       " '../../data/tm/raw/transfers/2008/french_ligue_1.csv',\n",
       " '../../data/tm/raw/transfers/2008/portugese_liga_nos.csv',\n",
       " '../../data/tm/raw/transfers/2008/german_bundesliga_1.csv',\n",
       " '../../data/tm/raw/transfers/2008/spanish_primera_division.csv',\n",
       " '../../data/tm/raw/transfers/2008/dutch_eredivisie.csv',\n",
       " '../../data/tm/raw/transfers/2008/russian_premier_liga.csv',\n",
       " '../../data/tm/raw/transfers/2001/italian_serie_a.csv',\n",
       " '../../data/tm/raw/transfers/2001/english_premier_league.csv',\n",
       " '../../data/tm/raw/transfers/2001/english_championship.csv',\n",
       " '../../data/tm/raw/transfers/2001/french_ligue_1.csv',\n",
       " '../../data/tm/raw/transfers/2001/portugese_liga_nos.csv',\n",
       " '../../data/tm/raw/transfers/2001/german_bundesliga_1.csv',\n",
       " '../../data/tm/raw/transfers/2001/spanish_primera_division.csv',\n",
       " '../../data/tm/raw/transfers/2001/dutch_eredivisie.csv',\n",
       " '../../data/tm/raw/transfers/2001/russian_premier_liga.csv',\n",
       " '../../data/tm/raw/transfers/2006/italian_serie_a.csv',\n",
       " '../../data/tm/raw/transfers/2006/english_premier_league.csv',\n",
       " '../../data/tm/raw/transfers/2006/english_championship.csv',\n",
       " '../../data/tm/raw/transfers/2006/french_ligue_1.csv',\n",
       " '../../data/tm/raw/transfers/2006/portugese_liga_nos.csv',\n",
       " '../../data/tm/raw/transfers/2006/german_bundesliga_1.csv',\n",
       " '../../data/tm/raw/transfers/2006/spanish_primera_division.csv',\n",
       " '../../data/tm/raw/transfers/2006/dutch_eredivisie.csv',\n",
       " '../../data/tm/raw/transfers/2006/russian_premier_liga.csv',\n",
       " '../../data/tm/raw/transfers/2007/italian_serie_a.csv',\n",
       " '../../data/tm/raw/transfers/2007/english_premier_league.csv',\n",
       " '../../data/tm/raw/transfers/2007/english_championship.csv',\n",
       " '../../data/tm/raw/transfers/2007/french_ligue_1.csv',\n",
       " '../../data/tm/raw/transfers/2007/portugese_liga_nos.csv',\n",
       " '../../data/tm/raw/transfers/2007/german_bundesliga_1.csv',\n",
       " '../../data/tm/raw/transfers/2007/spanish_primera_division.csv',\n",
       " '../../data/tm/raw/transfers/2007/dutch_eredivisie.csv',\n",
       " '../../data/tm/raw/transfers/2007/russian_premier_liga.csv',\n",
       " '../../data/tm/raw/transfers/2000/italian_serie_a.csv',\n",
       " '../../data/tm/raw/transfers/2000/english_premier_league.csv',\n",
       " '../../data/tm/raw/transfers/2000/english_championship.csv',\n",
       " '../../data/tm/raw/transfers/2000/french_ligue_1.csv',\n",
       " '../../data/tm/raw/transfers/2000/portugese_liga_nos.csv',\n",
       " '../../data/tm/raw/transfers/2000/german_bundesliga_1.csv',\n",
       " '../../data/tm/raw/transfers/2000/spanish_primera_division.csv',\n",
       " '../../data/tm/raw/transfers/2000/dutch_eredivisie.csv',\n",
       " '../../data/tm/raw/transfers/2000/russian_premier_liga.csv',\n",
       " '../../data/tm/raw/transfers/2009/italian_serie_a.csv',\n",
       " '../../data/tm/raw/transfers/2009/english_premier_league.csv',\n",
       " '../../data/tm/raw/transfers/2009/english_championship.csv',\n",
       " '../../data/tm/raw/transfers/2009/french_ligue_1.csv',\n",
       " '../../data/tm/raw/transfers/2009/portugese_liga_nos.csv',\n",
       " '../../data/tm/raw/transfers/2009/german_bundesliga_1.csv',\n",
       " '../../data/tm/raw/transfers/2009/spanish_primera_division.csv',\n",
       " '../../data/tm/raw/transfers/2009/dutch_eredivisie.csv',\n",
       " '../../data/tm/raw/transfers/2009/russian_premier_liga.csv',\n",
       " '../../data/tm/raw/transfers/2017/italian_serie_a.csv',\n",
       " '../../data/tm/raw/transfers/2017/english_premier_league.csv',\n",
       " '../../data/tm/raw/transfers/2017/english_championship.csv',\n",
       " '../../data/tm/raw/transfers/2017/french_ligue_1.csv',\n",
       " '../../data/tm/raw/transfers/2017/portugese_liga_nos.csv',\n",
       " '../../data/tm/raw/transfers/2017/german_bundesliga_1.csv',\n",
       " '../../data/tm/raw/transfers/2017/spanish_primera_division.csv',\n",
       " '../../data/tm/raw/transfers/2017/dutch_eredivisie.csv',\n",
       " '../../data/tm/raw/transfers/2017/russian_premier_liga.csv',\n",
       " '../../data/tm/raw/transfers/2010/italian_serie_a.csv',\n",
       " '../../data/tm/raw/transfers/2010/english_premier_league.csv',\n",
       " '../../data/tm/raw/transfers/2010/english_championship.csv',\n",
       " '../../data/tm/raw/transfers/2010/french_ligue_1.csv',\n",
       " '../../data/tm/raw/transfers/2010/portugese_liga_nos.csv',\n",
       " '../../data/tm/raw/transfers/2010/german_bundesliga_1.csv',\n",
       " '../../data/tm/raw/transfers/2010/spanish_primera_division.csv',\n",
       " '../../data/tm/raw/transfers/2010/dutch_eredivisie.csv',\n",
       " '../../data/tm/raw/transfers/2010/russian_premier_liga.csv',\n",
       " '../../data/tm/raw/transfers/2019/italian_serie_a.csv',\n",
       " '../../data/tm/raw/transfers/2019/english_premier_league.csv',\n",
       " '../../data/tm/raw/transfers/2019/english_championship.csv',\n",
       " '../../data/tm/raw/transfers/2019/french_ligue_1.csv',\n",
       " '../../data/tm/raw/transfers/2019/portugese_liga_nos.csv',\n",
       " '../../data/tm/raw/transfers/2019/german_bundesliga_1.csv',\n",
       " '../../data/tm/raw/transfers/2019/spanish_primera_division.csv',\n",
       " '../../data/tm/raw/transfers/2019/dutch_eredivisie.csv',\n",
       " '../../data/tm/raw/transfers/2019/russian_premier_liga.csv',\n",
       " '../../data/tm/raw/transfers/2020/italian_serie_a.csv',\n",
       " '../../data/tm/raw/transfers/2020/english_premier_league.csv',\n",
       " '../../data/tm/raw/transfers/2020/english_championship.csv',\n",
       " '../../data/tm/raw/transfers/2020/french_ligue_1.csv',\n",
       " '../../data/tm/raw/transfers/2020/portugese_liga_nos.csv',\n",
       " '../../data/tm/raw/transfers/2020/german_bundesliga_1.csv',\n",
       " '../../data/tm/raw/transfers/2020/spanish_primera_division.csv',\n",
       " '../../data/tm/raw/transfers/2020/dutch_eredivisie.csv',\n",
       " '../../data/tm/raw/transfers/2020/russian_premier_liga.csv',\n",
       " '../../data/tm/raw/transfers/2018/italian_serie_a.csv',\n",
       " '../../data/tm/raw/transfers/2018/english_premier_league.csv',\n",
       " '../../data/tm/raw/transfers/2018/english_championship.csv',\n",
       " '../../data/tm/raw/transfers/2018/french_ligue_1.csv',\n",
       " '../../data/tm/raw/transfers/2018/portugese_liga_nos.csv',\n",
       " '../../data/tm/raw/transfers/2018/german_bundesliga_1.csv',\n",
       " '../../data/tm/raw/transfers/2018/spanish_primera_division.csv',\n",
       " '../../data/tm/raw/transfers/2018/dutch_eredivisie.csv',\n",
       " '../../data/tm/raw/transfers/2018/russian_premier_liga.csv',\n",
       " '../../data/tm/raw/transfers/2011/italian_serie_a.csv',\n",
       " '../../data/tm/raw/transfers/2011/english_premier_league.csv',\n",
       " '../../data/tm/raw/transfers/2011/english_championship.csv',\n",
       " '../../data/tm/raw/transfers/2011/french_ligue_1.csv',\n",
       " '../../data/tm/raw/transfers/2011/portugese_liga_nos.csv',\n",
       " '../../data/tm/raw/transfers/2011/german_bundesliga_1.csv',\n",
       " '../../data/tm/raw/transfers/2011/spanish_primera_division.csv',\n",
       " '../../data/tm/raw/transfers/2011/dutch_eredivisie.csv',\n",
       " '../../data/tm/raw/transfers/2011/russian_premier_liga.csv',\n",
       " '../../data/tm/raw/transfers/2016/italian_serie_a.csv',\n",
       " '../../data/tm/raw/transfers/2016/english_premier_league.csv',\n",
       " '../../data/tm/raw/transfers/2016/english_championship.csv',\n",
       " '../../data/tm/raw/transfers/2016/french_ligue_1.csv',\n",
       " '../../data/tm/raw/transfers/2016/portugese_liga_nos.csv',\n",
       " '../../data/tm/raw/transfers/2016/german_bundesliga_1.csv',\n",
       " '../../data/tm/raw/transfers/2016/spanish_primera_division.csv',\n",
       " '../../data/tm/raw/transfers/2016/dutch_eredivisie.csv',\n",
       " '../../data/tm/raw/transfers/2016/russian_premier_liga.csv',\n",
       " '../../data/tm/raw/transfers/1997/italian_serie_a.csv',\n",
       " '../../data/tm/raw/transfers/1997/english_premier_league.csv',\n",
       " '../../data/tm/raw/transfers/1997/english_championship.csv',\n",
       " '../../data/tm/raw/transfers/1997/french_ligue_1.csv',\n",
       " '../../data/tm/raw/transfers/1997/portugese_liga_nos.csv',\n",
       " '../../data/tm/raw/transfers/1997/german_bundesliga_1.csv',\n",
       " '../../data/tm/raw/transfers/1997/spanish_primera_division.csv',\n",
       " '../../data/tm/raw/transfers/1997/dutch_eredivisie.csv',\n",
       " '../../data/tm/raw/transfers/1997/russian_premier_liga.csv',\n",
       " '../../data/tm/raw/transfers/1999/italian_serie_a.csv',\n",
       " '../../data/tm/raw/transfers/1999/english_premier_league.csv',\n",
       " '../../data/tm/raw/transfers/1999/english_championship.csv',\n",
       " '../../data/tm/raw/transfers/1999/french_ligue_1.csv',\n",
       " '../../data/tm/raw/transfers/1999/portugese_liga_nos.csv',\n",
       " '../../data/tm/raw/transfers/1999/german_bundesliga_1.csv',\n",
       " '../../data/tm/raw/transfers/1999/spanish_primera_division.csv',\n",
       " '../../data/tm/raw/transfers/1999/dutch_eredivisie.csv',\n",
       " '../../data/tm/raw/transfers/1999/russian_premier_liga.csv',\n",
       " '../../data/tm/raw/transfers/1998/italian_serie_a.csv',\n",
       " '../../data/tm/raw/transfers/1998/english_premier_league.csv',\n",
       " '../../data/tm/raw/transfers/1998/english_championship.csv',\n",
       " '../../data/tm/raw/transfers/1998/french_ligue_1.csv',\n",
       " '../../data/tm/raw/transfers/1998/portugese_liga_nos.csv',\n",
       " '../../data/tm/raw/transfers/1998/german_bundesliga_1.csv',\n",
       " '../../data/tm/raw/transfers/1998/spanish_primera_division.csv',\n",
       " '../../data/tm/raw/transfers/1998/dutch_eredivisie.csv',\n",
       " '../../data/tm/raw/transfers/1998/russian_premier_liga.csv',\n",
       " '../../data/tm/raw/transfers/1996/italian_serie_a.csv',\n",
       " '../../data/tm/raw/transfers/1996/english_premier_league.csv',\n",
       " '../../data/tm/raw/transfers/1996/english_championship.csv',\n",
       " '../../data/tm/raw/transfers/1996/french_ligue_1.csv',\n",
       " '../../data/tm/raw/transfers/1996/portugese_liga_nos.csv',\n",
       " '../../data/tm/raw/transfers/1996/german_bundesliga_1.csv',\n",
       " '../../data/tm/raw/transfers/1996/spanish_primera_division.csv',\n",
       " '../../data/tm/raw/transfers/1996/dutch_eredivisie.csv',\n",
       " '../../data/tm/raw/transfers/1996/russian_premier_liga.csv',\n",
       " '../../data/tm/raw/transfers/2005/italian_serie_a.csv',\n",
       " '../../data/tm/raw/transfers/2005/english_premier_league.csv',\n",
       " '../../data/tm/raw/transfers/2005/english_championship.csv',\n",
       " '../../data/tm/raw/transfers/2005/french_ligue_1.csv',\n",
       " '../../data/tm/raw/transfers/2005/portugese_liga_nos.csv',\n",
       " '../../data/tm/raw/transfers/2005/german_bundesliga_1.csv',\n",
       " '../../data/tm/raw/transfers/2005/spanish_primera_division.csv',\n",
       " '../../data/tm/raw/transfers/2005/dutch_eredivisie.csv',\n",
       " '../../data/tm/raw/transfers/2005/russian_premier_liga.csv',\n",
       " '../../data/tm/raw/transfers/2002/italian_serie_a.csv',\n",
       " '../../data/tm/raw/transfers/2002/english_premier_league.csv',\n",
       " '../../data/tm/raw/transfers/2002/english_championship.csv',\n",
       " '../../data/tm/raw/transfers/2002/french_ligue_1.csv',\n",
       " '../../data/tm/raw/transfers/2002/portugese_liga_nos.csv',\n",
       " '../../data/tm/raw/transfers/2002/german_bundesliga_1.csv',\n",
       " '../../data/tm/raw/transfers/2002/spanish_primera_division.csv',\n",
       " '../../data/tm/raw/transfers/2002/dutch_eredivisie.csv',\n",
       " '../../data/tm/raw/transfers/2002/russian_premier_liga.csv',\n",
       " '../../data/tm/raw/transfers/2003/italian_serie_a.csv',\n",
       " '../../data/tm/raw/transfers/2003/english_premier_league.csv',\n",
       " '../../data/tm/raw/transfers/2003/english_championship.csv',\n",
       " '../../data/tm/raw/transfers/2003/french_ligue_1.csv',\n",
       " '../../data/tm/raw/transfers/2003/portugese_liga_nos.csv',\n",
       " '../../data/tm/raw/transfers/2003/german_bundesliga_1.csv',\n",
       " '../../data/tm/raw/transfers/2003/spanish_primera_division.csv',\n",
       " '../../data/tm/raw/transfers/2003/dutch_eredivisie.csv',\n",
       " '../../data/tm/raw/transfers/2003/russian_premier_liga.csv',\n",
       " '../../data/tm/raw/transfers/2004/italian_serie_a.csv',\n",
       " '../../data/tm/raw/transfers/2004/english_premier_league.csv',\n",
       " '../../data/tm/raw/transfers/2004/english_championship.csv',\n",
       " '../../data/tm/raw/transfers/2004/french_ligue_1.csv',\n",
       " '../../data/tm/raw/transfers/2004/portugese_liga_nos.csv',\n",
       " '../../data/tm/raw/transfers/2004/german_bundesliga_1.csv',\n",
       " '../../data/tm/raw/transfers/2004/spanish_primera_division.csv',\n",
       " '../../data/tm/raw/transfers/2004/dutch_eredivisie.csv',\n",
       " '../../data/tm/raw/transfers/2004/russian_premier_liga.csv']"
      ]
     },
     "execution_count": 9,
     "metadata": {},
     "output_type": "execute_result"
    }
   ],
   "source": [
    "# Show files individual files in directory\n",
    "all_files = glob.glob(os.path.join(data_dir + '/tm/raw/transfers/*/*.csv'))\n",
    "all_files"
   ]
  },
  {
   "cell_type": "code",
   "execution_count": 13,
   "metadata": {},
   "outputs": [],
   "source": [
    "lst_all_leagues = []\n",
    "\n",
    "for filename in all_files:\n",
    "    df_temp = pd.read_csv(filename, index_col=None, header=0)\n",
    "    lst_all_leagues.append(df_temp)\n",
    "\n",
    "df_transfers_all = pd.concat(lst_all_leagues, axis=0, ignore_index=True)\n",
    "\n",
    "df_transfers_all = df_transfers_all.sort_values(['season', 'league_name', 'club_name', 'player_name'], ascending=[True, True, True, True])"
   ]
  },
  {
   "cell_type": "code",
   "execution_count": 14,
   "metadata": {},
   "outputs": [
    {
     "data": {
      "text/html": [
       "<div>\n",
       "<style scoped>\n",
       "    .dataframe tbody tr th:only-of-type {\n",
       "        vertical-align: middle;\n",
       "    }\n",
       "\n",
       "    .dataframe tbody tr th {\n",
       "        vertical-align: top;\n",
       "    }\n",
       "\n",
       "    .dataframe thead th {\n",
       "        text-align: right;\n",
       "    }\n",
       "</style>\n",
       "<table border=\"1\" class=\"dataframe\">\n",
       "  <thead>\n",
       "    <tr style=\"text-align: right;\">\n",
       "      <th></th>\n",
       "      <th>club_name</th>\n",
       "      <th>player_name</th>\n",
       "      <th>age</th>\n",
       "      <th>position</th>\n",
       "      <th>club_involved_name</th>\n",
       "      <th>fee</th>\n",
       "      <th>transfer_movement</th>\n",
       "      <th>transfer_period</th>\n",
       "      <th>fee_cleaned</th>\n",
       "      <th>league_name</th>\n",
       "      <th>year</th>\n",
       "      <th>season</th>\n",
       "    </tr>\n",
       "  </thead>\n",
       "  <tbody>\n",
       "    <tr>\n",
       "      <th>42905</th>\n",
       "      <td>1. FC Köln</td>\n",
       "      <td>Adrian Spyrka</td>\n",
       "      <td>24.0</td>\n",
       "      <td>Central Midfield</td>\n",
       "      <td>Stuttg. Kickers</td>\n",
       "      <td>End of loanJun 30, 1992</td>\n",
       "      <td>in</td>\n",
       "      <td>Summer</td>\n",
       "      <td>0.000</td>\n",
       "      <td>1 Bundesliga</td>\n",
       "      <td>1992</td>\n",
       "      <td>1992/1993</td>\n",
       "    </tr>\n",
       "    <tr>\n",
       "      <th>42961</th>\n",
       "      <td>1. FC Köln</td>\n",
       "      <td>Andrzej Kobylanski</td>\n",
       "      <td>22.0</td>\n",
       "      <td>Left Midfield</td>\n",
       "      <td>Siarka T.</td>\n",
       "      <td>£270Th.</td>\n",
       "      <td>in</td>\n",
       "      <td>Winter</td>\n",
       "      <td>0.270</td>\n",
       "      <td>1 Bundesliga</td>\n",
       "      <td>1992</td>\n",
       "      <td>1992/1993</td>\n",
       "    </tr>\n",
       "    <tr>\n",
       "      <th>42906</th>\n",
       "      <td>1. FC Köln</td>\n",
       "      <td>Andrzej Rudy</td>\n",
       "      <td>26.0</td>\n",
       "      <td>Attacking Midfield</td>\n",
       "      <td>Bröndby IF</td>\n",
       "      <td>End of loanJun 30, 1992</td>\n",
       "      <td>in</td>\n",
       "      <td>Summer</td>\n",
       "      <td>0.000</td>\n",
       "      <td>1 Bundesliga</td>\n",
       "      <td>1992</td>\n",
       "      <td>1992/1993</td>\n",
       "    </tr>\n",
       "    <tr>\n",
       "      <th>42903</th>\n",
       "      <td>1. FC Köln</td>\n",
       "      <td>Carsten Keuler</td>\n",
       "      <td>20.0</td>\n",
       "      <td>Centre-Back</td>\n",
       "      <td>1.FC Köln II</td>\n",
       "      <td>-</td>\n",
       "      <td>in</td>\n",
       "      <td>Summer</td>\n",
       "      <td>0.000</td>\n",
       "      <td>1 Bundesliga</td>\n",
       "      <td>1992</td>\n",
       "      <td>1992/1993</td>\n",
       "    </tr>\n",
       "    <tr>\n",
       "      <th>42899</th>\n",
       "      <td>1. FC Köln</td>\n",
       "      <td>Dirk Lehmann</td>\n",
       "      <td>20.0</td>\n",
       "      <td>Attacking Midfield</td>\n",
       "      <td>A. Aachen II</td>\n",
       "      <td>£14Th.</td>\n",
       "      <td>in</td>\n",
       "      <td>Summer</td>\n",
       "      <td>0.014</td>\n",
       "      <td>1 Bundesliga</td>\n",
       "      <td>1992</td>\n",
       "      <td>1992/1993</td>\n",
       "    </tr>\n",
       "  </tbody>\n",
       "</table>\n",
       "</div>"
      ],
      "text/plain": [
       "        club_name         player_name   age            position  \\\n",
       "42905  1. FC Köln       Adrian Spyrka  24.0    Central Midfield   \n",
       "42961  1. FC Köln  Andrzej Kobylanski  22.0       Left Midfield   \n",
       "42906  1. FC Köln        Andrzej Rudy  26.0  Attacking Midfield   \n",
       "42903  1. FC Köln      Carsten Keuler  20.0         Centre-Back   \n",
       "42899  1. FC Köln        Dirk Lehmann  20.0  Attacking Midfield   \n",
       "\n",
       "      club_involved_name                      fee transfer_movement  \\\n",
       "42905    Stuttg. Kickers  End of loanJun 30, 1992                in   \n",
       "42961          Siarka T.                  £270Th.                in   \n",
       "42906         Bröndby IF  End of loanJun 30, 1992                in   \n",
       "42903       1.FC Köln II                        -                in   \n",
       "42899       A. Aachen II                   £14Th.                in   \n",
       "\n",
       "      transfer_period  fee_cleaned   league_name  year     season  \n",
       "42905          Summer        0.000  1 Bundesliga  1992  1992/1993  \n",
       "42961          Winter        0.270  1 Bundesliga  1992  1992/1993  \n",
       "42906          Summer        0.000  1 Bundesliga  1992  1992/1993  \n",
       "42903          Summer        0.000  1 Bundesliga  1992  1992/1993  \n",
       "42899          Summer        0.014  1 Bundesliga  1992  1992/1993  "
      ]
     },
     "execution_count": 14,
     "metadata": {},
     "output_type": "execute_result"
    }
   ],
   "source": [
    "df_transfers_all.head()"
   ]
  },
  {
   "cell_type": "code",
   "execution_count": 17,
   "metadata": {},
   "outputs": [
    {
     "data": {
      "text/plain": [
       "(169432, 12)"
      ]
     },
     "execution_count": 17,
     "metadata": {},
     "output_type": "execute_result"
    }
   ],
   "source": [
    "df_transfers_all.shape"
   ]
  },
  {
   "cell_type": "markdown",
   "metadata": {},
   "source": [
    "### <a id='#section3.3'>3.3. Preliminary Data Handling</a>\n",
    "Let's quality of the dataset by looking first and last rows in pandas using the [head()](https://pandas.pydata.org/pandas-docs/stable/reference/api/pandas.DataFrame.head.html) and [tail()](https://pandas.pydata.org/pandas-docs/stable/reference/api/pandas.DataFrame.tail.html) methods."
   ]
  },
  {
   "cell_type": "markdown",
   "metadata": {},
   "source": [
    "##### Bio data"
   ]
  },
  {
   "cell_type": "code",
   "execution_count": 19,
   "metadata": {},
   "outputs": [
    {
     "data": {
      "text/html": [
       "<div>\n",
       "<style scoped>\n",
       "    .dataframe tbody tr th:only-of-type {\n",
       "        vertical-align: middle;\n",
       "    }\n",
       "\n",
       "    .dataframe tbody tr th {\n",
       "        vertical-align: top;\n",
       "    }\n",
       "\n",
       "    .dataframe thead th {\n",
       "        text-align: right;\n",
       "    }\n",
       "</style>\n",
       "<table border=\"1\" class=\"dataframe\">\n",
       "  <thead>\n",
       "    <tr style=\"text-align: right;\">\n",
       "      <th></th>\n",
       "      <th>club_name</th>\n",
       "      <th>player_name</th>\n",
       "      <th>age</th>\n",
       "      <th>position</th>\n",
       "      <th>club_involved_name</th>\n",
       "      <th>fee</th>\n",
       "      <th>transfer_movement</th>\n",
       "      <th>transfer_period</th>\n",
       "      <th>fee_cleaned</th>\n",
       "      <th>league_name</th>\n",
       "      <th>year</th>\n",
       "      <th>season</th>\n",
       "    </tr>\n",
       "  </thead>\n",
       "  <tbody>\n",
       "    <tr>\n",
       "      <th>42905</th>\n",
       "      <td>1. FC Köln</td>\n",
       "      <td>Adrian Spyrka</td>\n",
       "      <td>24.0</td>\n",
       "      <td>Central Midfield</td>\n",
       "      <td>Stuttg. Kickers</td>\n",
       "      <td>End of loanJun 30, 1992</td>\n",
       "      <td>in</td>\n",
       "      <td>Summer</td>\n",
       "      <td>0.000</td>\n",
       "      <td>1 Bundesliga</td>\n",
       "      <td>1992</td>\n",
       "      <td>1992/1993</td>\n",
       "    </tr>\n",
       "    <tr>\n",
       "      <th>42961</th>\n",
       "      <td>1. FC Köln</td>\n",
       "      <td>Andrzej Kobylanski</td>\n",
       "      <td>22.0</td>\n",
       "      <td>Left Midfield</td>\n",
       "      <td>Siarka T.</td>\n",
       "      <td>£270Th.</td>\n",
       "      <td>in</td>\n",
       "      <td>Winter</td>\n",
       "      <td>0.270</td>\n",
       "      <td>1 Bundesliga</td>\n",
       "      <td>1992</td>\n",
       "      <td>1992/1993</td>\n",
       "    </tr>\n",
       "    <tr>\n",
       "      <th>42906</th>\n",
       "      <td>1. FC Köln</td>\n",
       "      <td>Andrzej Rudy</td>\n",
       "      <td>26.0</td>\n",
       "      <td>Attacking Midfield</td>\n",
       "      <td>Bröndby IF</td>\n",
       "      <td>End of loanJun 30, 1992</td>\n",
       "      <td>in</td>\n",
       "      <td>Summer</td>\n",
       "      <td>0.000</td>\n",
       "      <td>1 Bundesliga</td>\n",
       "      <td>1992</td>\n",
       "      <td>1992/1993</td>\n",
       "    </tr>\n",
       "    <tr>\n",
       "      <th>42903</th>\n",
       "      <td>1. FC Köln</td>\n",
       "      <td>Carsten Keuler</td>\n",
       "      <td>20.0</td>\n",
       "      <td>Centre-Back</td>\n",
       "      <td>1.FC Köln II</td>\n",
       "      <td>-</td>\n",
       "      <td>in</td>\n",
       "      <td>Summer</td>\n",
       "      <td>0.000</td>\n",
       "      <td>1 Bundesliga</td>\n",
       "      <td>1992</td>\n",
       "      <td>1992/1993</td>\n",
       "    </tr>\n",
       "    <tr>\n",
       "      <th>42899</th>\n",
       "      <td>1. FC Köln</td>\n",
       "      <td>Dirk Lehmann</td>\n",
       "      <td>20.0</td>\n",
       "      <td>Attacking Midfield</td>\n",
       "      <td>A. Aachen II</td>\n",
       "      <td>£14Th.</td>\n",
       "      <td>in</td>\n",
       "      <td>Summer</td>\n",
       "      <td>0.014</td>\n",
       "      <td>1 Bundesliga</td>\n",
       "      <td>1992</td>\n",
       "      <td>1992/1993</td>\n",
       "    </tr>\n",
       "  </tbody>\n",
       "</table>\n",
       "</div>"
      ],
      "text/plain": [
       "        club_name         player_name   age            position  \\\n",
       "42905  1. FC Köln       Adrian Spyrka  24.0    Central Midfield   \n",
       "42961  1. FC Köln  Andrzej Kobylanski  22.0       Left Midfield   \n",
       "42906  1. FC Köln        Andrzej Rudy  26.0  Attacking Midfield   \n",
       "42903  1. FC Köln      Carsten Keuler  20.0         Centre-Back   \n",
       "42899  1. FC Köln        Dirk Lehmann  20.0  Attacking Midfield   \n",
       "\n",
       "      club_involved_name                      fee transfer_movement  \\\n",
       "42905    Stuttg. Kickers  End of loanJun 30, 1992                in   \n",
       "42961          Siarka T.                  £270Th.                in   \n",
       "42906         Bröndby IF  End of loanJun 30, 1992                in   \n",
       "42903       1.FC Köln II                        -                in   \n",
       "42899       A. Aachen II                   £14Th.                in   \n",
       "\n",
       "      transfer_period  fee_cleaned   league_name  year     season  \n",
       "42905          Summer        0.000  1 Bundesliga  1992  1992/1993  \n",
       "42961          Winter        0.270  1 Bundesliga  1992  1992/1993  \n",
       "42906          Summer        0.000  1 Bundesliga  1992  1992/1993  \n",
       "42903          Summer        0.000  1 Bundesliga  1992  1992/1993  \n",
       "42899          Summer        0.014  1 Bundesliga  1992  1992/1993  "
      ]
     },
     "execution_count": 19,
     "metadata": {},
     "output_type": "execute_result"
    }
   ],
   "source": [
    "# Display the first 5 rows of the raw DataFrame, df_transfers_all\n",
    "df_transfers_all.head()"
   ]
  },
  {
   "cell_type": "code",
   "execution_count": 21,
   "metadata": {},
   "outputs": [
    {
     "data": {
      "text/html": [
       "<div>\n",
       "<style scoped>\n",
       "    .dataframe tbody tr th:only-of-type {\n",
       "        vertical-align: middle;\n",
       "    }\n",
       "\n",
       "    .dataframe tbody tr th {\n",
       "        vertical-align: top;\n",
       "    }\n",
       "\n",
       "    .dataframe thead th {\n",
       "        text-align: right;\n",
       "    }\n",
       "</style>\n",
       "<table border=\"1\" class=\"dataframe\">\n",
       "  <thead>\n",
       "    <tr style=\"text-align: right;\">\n",
       "      <th></th>\n",
       "      <th>club_name</th>\n",
       "      <th>player_name</th>\n",
       "      <th>age</th>\n",
       "      <th>position</th>\n",
       "      <th>club_involved_name</th>\n",
       "      <th>fee</th>\n",
       "      <th>transfer_movement</th>\n",
       "      <th>transfer_period</th>\n",
       "      <th>fee_cleaned</th>\n",
       "      <th>league_name</th>\n",
       "      <th>year</th>\n",
       "      <th>season</th>\n",
       "    </tr>\n",
       "  </thead>\n",
       "  <tbody>\n",
       "    <tr>\n",
       "      <th>102782</th>\n",
       "      <td>Udinese Calcio</td>\n",
       "      <td>Stipe Perica</td>\n",
       "      <td>25.0</td>\n",
       "      <td>Centre-Forward</td>\n",
       "      <td>Watford</td>\n",
       "      <td>?</td>\n",
       "      <td>out</td>\n",
       "      <td>Summer</td>\n",
       "      <td>NaN</td>\n",
       "      <td>Serie A</td>\n",
       "      <td>2020</td>\n",
       "      <td>2020/2021</td>\n",
       "    </tr>\n",
       "    <tr>\n",
       "      <th>102785</th>\n",
       "      <td>Udinese Calcio</td>\n",
       "      <td>Svante Ingelsson</td>\n",
       "      <td>22.0</td>\n",
       "      <td>Central Midfield</td>\n",
       "      <td>SC Paderborn</td>\n",
       "      <td>loan transfer</td>\n",
       "      <td>out</td>\n",
       "      <td>Summer</td>\n",
       "      <td>NaN</td>\n",
       "      <td>Serie A</td>\n",
       "      <td>2020</td>\n",
       "      <td>2020/2021</td>\n",
       "    </tr>\n",
       "    <tr>\n",
       "      <th>102769</th>\n",
       "      <td>Udinese Calcio</td>\n",
       "      <td>Thomas Ouwejan</td>\n",
       "      <td>23.0</td>\n",
       "      <td>Left-Back</td>\n",
       "      <td>AZ Alkmaar</td>\n",
       "      <td>loan transfer</td>\n",
       "      <td>in</td>\n",
       "      <td>Summer</td>\n",
       "      <td>NaN</td>\n",
       "      <td>Serie A</td>\n",
       "      <td>2020</td>\n",
       "      <td>2020/2021</td>\n",
       "    </tr>\n",
       "    <tr>\n",
       "      <th>102767</th>\n",
       "      <td>Udinese Calcio</td>\n",
       "      <td>Tolgay Arslan</td>\n",
       "      <td>30.0</td>\n",
       "      <td>Central Midfield</td>\n",
       "      <td>Fenerbahce</td>\n",
       "      <td>free transfer</td>\n",
       "      <td>in</td>\n",
       "      <td>Summer</td>\n",
       "      <td>NaN</td>\n",
       "      <td>Serie A</td>\n",
       "      <td>2020</td>\n",
       "      <td>2020/2021</td>\n",
       "    </tr>\n",
       "    <tr>\n",
       "      <th>102787</th>\n",
       "      <td>Udinese Calcio</td>\n",
       "      <td>William Troost-Ekong</td>\n",
       "      <td>27.0</td>\n",
       "      <td>Centre-Back</td>\n",
       "      <td>Watford</td>\n",
       "      <td>?</td>\n",
       "      <td>out</td>\n",
       "      <td>Summer</td>\n",
       "      <td>NaN</td>\n",
       "      <td>Serie A</td>\n",
       "      <td>2020</td>\n",
       "      <td>2020/2021</td>\n",
       "    </tr>\n",
       "  </tbody>\n",
       "</table>\n",
       "</div>"
      ],
      "text/plain": [
       "             club_name           player_name   age          position  \\\n",
       "102782  Udinese Calcio          Stipe Perica  25.0    Centre-Forward   \n",
       "102785  Udinese Calcio      Svante Ingelsson  22.0  Central Midfield   \n",
       "102769  Udinese Calcio        Thomas Ouwejan  23.0         Left-Back   \n",
       "102767  Udinese Calcio         Tolgay Arslan  30.0  Central Midfield   \n",
       "102787  Udinese Calcio  William Troost-Ekong  27.0       Centre-Back   \n",
       "\n",
       "       club_involved_name            fee transfer_movement transfer_period  \\\n",
       "102782            Watford              ?               out          Summer   \n",
       "102785       SC Paderborn  loan transfer               out          Summer   \n",
       "102769         AZ Alkmaar  loan transfer                in          Summer   \n",
       "102767         Fenerbahce  free transfer                in          Summer   \n",
       "102787            Watford              ?               out          Summer   \n",
       "\n",
       "        fee_cleaned league_name  year     season  \n",
       "102782          NaN     Serie A  2020  2020/2021  \n",
       "102785          NaN     Serie A  2020  2020/2021  \n",
       "102769          NaN     Serie A  2020  2020/2021  \n",
       "102767          NaN     Serie A  2020  2020/2021  \n",
       "102787          NaN     Serie A  2020  2020/2021  "
      ]
     },
     "execution_count": 21,
     "metadata": {},
     "output_type": "execute_result"
    }
   ],
   "source": [
    "# Display the last 5 rows of the raw DataFrame, df_transfers_all\n",
    "df_transfers_all.tail()"
   ]
  },
  {
   "cell_type": "code",
   "execution_count": 22,
   "metadata": {},
   "outputs": [
    {
     "name": "stdout",
     "output_type": "stream",
     "text": [
      "(169432, 12)\n"
     ]
    }
   ],
   "source": [
    "# Print the shape of the raw DataFrame, df_transfers_all\n",
    "print(df_transfers_all.shape)"
   ]
  },
  {
   "cell_type": "code",
   "execution_count": 23,
   "metadata": {},
   "outputs": [
    {
     "name": "stdout",
     "output_type": "stream",
     "text": [
      "Index(['club_name', 'player_name', 'age', 'position', 'club_involved_name',\n",
      "       'fee', 'transfer_movement', 'transfer_period', 'fee_cleaned',\n",
      "       'league_name', 'year', 'season'],\n",
      "      dtype='object')\n"
     ]
    }
   ],
   "source": [
    "# Print the column names of the raw DataFrame, df_transfers_all\n",
    "print(df_transfers_all.columns)"
   ]
  },
  {
   "cell_type": "markdown",
   "metadata": {},
   "source": [
    "The dataset has twelve features (columns)."
   ]
  },
  {
   "cell_type": "code",
   "execution_count": 26,
   "metadata": {},
   "outputs": [
    {
     "data": {
      "text/plain": [
       "club_name              object\n",
       "player_name            object\n",
       "age                   float64\n",
       "position               object\n",
       "club_involved_name     object\n",
       "fee                    object\n",
       "transfer_movement      object\n",
       "transfer_period        object\n",
       "fee_cleaned           float64\n",
       "league_name            object\n",
       "year                    int64\n",
       "season                 object\n",
       "dtype: object"
      ]
     },
     "execution_count": 26,
     "metadata": {},
     "output_type": "execute_result"
    }
   ],
   "source": [
    "# Data types of the features of the raw DataFrame, df_transfers_all\n",
    "df_transfers_all.dtypes"
   ]
  },
  {
   "cell_type": "code",
   "execution_count": 27,
   "metadata": {},
   "outputs": [
    {
     "name": "stdout",
     "output_type": "stream",
     "text": [
      "<class 'pandas.core.frame.DataFrame'>\n",
      "Int64Index: 169432 entries, 42905 to 102787\n",
      "Data columns (total 12 columns):\n",
      " #   Column              Non-Null Count   Dtype  \n",
      "---  ------              --------------   -----  \n",
      " 0   club_name           169432 non-null  object \n",
      " 1   player_name         169432 non-null  object \n",
      " 2   age                 169378 non-null  float64\n",
      " 3   position            169429 non-null  object \n",
      " 4   club_involved_name  169432 non-null  object \n",
      " 5   fee                 169288 non-null  object \n",
      " 6   transfer_movement   169432 non-null  object \n",
      " 7   transfer_period     155000 non-null  object \n",
      " 8   fee_cleaned         141091 non-null  float64\n",
      " 9   league_name         169432 non-null  object \n",
      " 10  year                169432 non-null  int64  \n",
      " 11  season              169432 non-null  object \n",
      "dtypes: float64(2), int64(1), object(9)\n",
      "memory usage: 16.8+ MB\n"
     ]
    }
   ],
   "source": [
    "# Info for the raw DataFrame, df_transfers_all\n",
    "df_transfers_all.info()"
   ]
  },
  {
   "cell_type": "code",
   "execution_count": 29,
   "metadata": {},
   "outputs": [
    {
     "data": {
      "text/html": [
       "<div>\n",
       "<style scoped>\n",
       "    .dataframe tbody tr th:only-of-type {\n",
       "        vertical-align: middle;\n",
       "    }\n",
       "\n",
       "    .dataframe tbody tr th {\n",
       "        vertical-align: top;\n",
       "    }\n",
       "\n",
       "    .dataframe thead th {\n",
       "        text-align: right;\n",
       "    }\n",
       "</style>\n",
       "<table border=\"1\" class=\"dataframe\">\n",
       "  <thead>\n",
       "    <tr style=\"text-align: right;\">\n",
       "      <th></th>\n",
       "      <th>age</th>\n",
       "      <th>fee_cleaned</th>\n",
       "      <th>year</th>\n",
       "    </tr>\n",
       "  </thead>\n",
       "  <tbody>\n",
       "    <tr>\n",
       "      <th>count</th>\n",
       "      <td>169378.000000</td>\n",
       "      <td>141091.000000</td>\n",
       "      <td>169432.000000</td>\n",
       "    </tr>\n",
       "    <tr>\n",
       "      <th>mean</th>\n",
       "      <td>24.365059</td>\n",
       "      <td>0.826053</td>\n",
       "      <td>2008.309741</td>\n",
       "    </tr>\n",
       "    <tr>\n",
       "      <th>std</th>\n",
       "      <td>6.264961</td>\n",
       "      <td>3.733409</td>\n",
       "      <td>7.663565</td>\n",
       "    </tr>\n",
       "    <tr>\n",
       "      <th>min</th>\n",
       "      <td>-1776.000000</td>\n",
       "      <td>0.000000</td>\n",
       "      <td>1992.000000</td>\n",
       "    </tr>\n",
       "    <tr>\n",
       "      <th>25%</th>\n",
       "      <td>21.000000</td>\n",
       "      <td>0.000000</td>\n",
       "      <td>2003.000000</td>\n",
       "    </tr>\n",
       "    <tr>\n",
       "      <th>50%</th>\n",
       "      <td>24.000000</td>\n",
       "      <td>0.000000</td>\n",
       "      <td>2009.000000</td>\n",
       "    </tr>\n",
       "    <tr>\n",
       "      <th>75%</th>\n",
       "      <td>27.000000</td>\n",
       "      <td>0.000000</td>\n",
       "      <td>2015.000000</td>\n",
       "    </tr>\n",
       "    <tr>\n",
       "      <th>max</th>\n",
       "      <td>117.000000</td>\n",
       "      <td>199.800000</td>\n",
       "      <td>2020.000000</td>\n",
       "    </tr>\n",
       "  </tbody>\n",
       "</table>\n",
       "</div>"
      ],
      "text/plain": [
       "                 age    fee_cleaned           year\n",
       "count  169378.000000  141091.000000  169432.000000\n",
       "mean       24.365059       0.826053    2008.309741\n",
       "std         6.264961       3.733409       7.663565\n",
       "min     -1776.000000       0.000000    1992.000000\n",
       "25%        21.000000       0.000000    2003.000000\n",
       "50%        24.000000       0.000000    2009.000000\n",
       "75%        27.000000       0.000000    2015.000000\n",
       "max       117.000000     199.800000    2020.000000"
      ]
     },
     "execution_count": 29,
     "metadata": {},
     "output_type": "execute_result"
    }
   ],
   "source": [
    "# Description of the raw DataFrame, df_transfers_all, showing some summary statistics for each numberical column in the DataFrame\n",
    "df_transfers_all.describe()"
   ]
  },
  {
   "cell_type": "code",
   "execution_count": 30,
   "metadata": {
    "scrolled": true
   },
   "outputs": [
    {
     "data": {
      "text/plain": [
       "<AxesSubplot:>"
      ]
     },
     "execution_count": 30,
     "metadata": {},
     "output_type": "execute_result"
    },
    {
     "data": {
      "image/png": "[encoded data removed]",
      "text/plain": [
       "<Figure size 2160x504 with 2 Axes>"
      ]
     },
     "metadata": {},
     "output_type": "display_data"
    }
   ],
   "source": [
    "# Plot visualisation of the missing values for each feature of the raw DataFrame, df_transfers_all\n",
    "msno.matrix(df_transfers_all, figsize = (30, 7))"
   ]
  },
  {
   "cell_type": "code",
   "execution_count": 31,
   "metadata": {},
   "outputs": [
    {
     "data": {
      "text/plain": [
       "age                   54\n",
       "position               3\n",
       "fee                  144\n",
       "transfer_period    14432\n",
       "fee_cleaned        28341\n",
       "dtype: int64"
      ]
     },
     "execution_count": 31,
     "metadata": {},
     "output_type": "execute_result"
    }
   ],
   "source": [
    "# Counts of missing values\n",
    "null_value_stats = df_transfers_all.isnull().sum(axis=0)\n",
    "null_value_stats[null_value_stats != 0]"
   ]
  },
  {
   "cell_type": "markdown",
   "metadata": {},
   "source": [
    "The visualisation shows us very quickly that there a few missing values in the `age`, `position`, `fee`, and then more missing values in the `transfer_period` and `fee_cleaned` column."
   ]
  },
  {
   "cell_type": "markdown",
   "metadata": {},
   "source": [
    "---\n",
    "\n",
    "<a id='section4'></a>\n",
    "\n",
    "## <a id='#section4'>4. Data Engineering</a>\n",
    "Before we answer the questions in the brief through [Exploratory Data Analysis (EDA)](#section5), we'll first need to clean and wrangle the datasets to a form that meet our needs."
   ]
  },
  {
   "cell_type": "markdown",
   "metadata": {},
   "source": [
    "### <a id='#section4.1'>4.1. Convert to GBP (£)</a>"
   ]
  },
  {
   "cell_type": "markdown",
   "metadata": {},
   "source": [
    "https://forex-python.readthedocs.io/en/latest/usage.html"
   ]
  },
  {
   "cell_type": "code",
   "execution_count": 32,
   "metadata": {},
   "outputs": [],
   "source": [
    "# Currency Convert\n",
    "from currency_converter import CurrencyConverter\n",
    "import math"
   ]
  },
  {
   "cell_type": "code",
   "execution_count": 33,
   "metadata": {},
   "outputs": [
    {
     "data": {
      "text/plain": [
       "0.90053"
      ]
     },
     "execution_count": 33,
     "metadata": {},
     "output_type": "execute_result"
    }
   ],
   "source": [
    "# Get EUR to GBP exchange rate\n",
    "\n",
    "## Get latest currency rates\n",
    "c = CurrencyConverter()\n",
    "\n",
    "##  Get conversion rate from EUR to GBP\n",
    "rate_eur_gbp = (c.convert(1, 'EUR', 'GBP'))\n",
    "rate_eur_gbp"
   ]
  },
  {
   "cell_type": "code",
   "execution_count": 68,
   "metadata": {},
   "outputs": [],
   "source": [
    "# NOT NEEDED AS ALREADY IN POUNDS\n",
    "\n",
    "# Convert Euros to Pounds\n",
    "#df_transfers_all['fee_cleaned_pounds'] = df_transfers_all['fee_cleaned'] * rate_eur_gbp"
   ]
  },
  {
   "cell_type": "markdown",
   "metadata": {},
   "source": [
    "### <a id='#section4.2'>4.2. Filter Players in 'Big 5' European Leagues and MLS</a>"
   ]
  },
  {
   "cell_type": "code",
   "execution_count": 34,
   "metadata": {},
   "outputs": [
    {
     "data": {
      "text/plain": [
       "array(['1 Bundesliga', 'Championship', 'Eredivisie', 'Liga Nos',\n",
       "       'Ligue 1', 'Premier League', 'Premier Liga', 'Primera Division',\n",
       "       'Serie A'], dtype=object)"
      ]
     },
     "execution_count": 34,
     "metadata": {},
     "output_type": "execute_result"
    }
   ],
   "source": [
    "df_transfers_all['league_name'].unique()"
   ]
  },
  {
   "cell_type": "code",
   "execution_count": 37,
   "metadata": {},
   "outputs": [],
   "source": [
    "# Filter plays in the Big 5 European Leagues\n",
    "\n",
    "## Define list of countries\n",
    "lst_big5_countries = ['1 Bundesliga', 'Ligue 1', 'Premier League', 'Serie A']\n",
    "\n",
    "## Filter list of Big 5 European League countries from DataFrame\n",
    "df_transfers_big5 = df_transfers_all[df_transfers_all['league_name'].isin(lst_big5_countries)]"
   ]
  },
  {
   "cell_type": "code",
   "execution_count": 38,
   "metadata": {},
   "outputs": [
    {
     "data": {
      "text/plain": [
       "(77866, 12)"
      ]
     },
     "execution_count": 38,
     "metadata": {},
     "output_type": "execute_result"
    }
   ],
   "source": [
    "df_transfers_big5.shape"
   ]
  },
  {
   "cell_type": "markdown",
   "metadata": {},
   "source": [
    "---\n",
    "\n",
    "<a id='section5'></a>\n",
    "\n",
    "## <a id='#section5'>5. Exporting the Engineered DataFrames</a>\n",
    "Export the two engineered [TransferMarkt](https://www.transfermarkt.co.uk/) DataFrames as CSV files."
   ]
  },
  {
   "cell_type": "code",
   "execution_count": 41,
   "metadata": {},
   "outputs": [],
   "source": [
    "# Export DataFrame as a CSV file\n",
    "\n",
    "## All data\n",
    "df_transfers_all.to_csv(data_dir_tm + f'/engineered/transfers/archive/' + f'tm_transfers_all_last_updated_{today}.csv', index=None, header=True)\n",
    "df_transfers_all.to_csv(data_dir_tm + f'/engineered/transfers/' + f'tm_transfers_all_latest.csv', index=None, header=True)\n",
    "df_transfers_all.to_csv(data_dir + f'/export/' + f'tm_transfers_all_latest.csv', index=None, header=True)\n",
    "\n",
    "\n",
    "## Big 5 European Leagues\n",
    "df_transfers_big5.to_csv(data_dir_tm + f'/engineered/transfers/archive/' + f'tm_transfers_big5_last_updated_{today}.csv', index=None, header=True)\n",
    "df_transfers_big5.to_csv(data_dir_tm + f'/engineered/transfers/' + f'tm_transfers_big5_latest.csv', index=None, header=True)\n",
    "df_transfers_big5.to_csv(data_dir + f'/export/' + f'tm_transfers_big5_latest.csv', index=None, header=True)"
   ]
  },
  {
   "cell_type": "markdown",
   "metadata": {},
   "source": [
    "## <a id='#section6'>6. Summary</a>\n",
    "This Jupyter notebook engineered scraped football data from [TransferMarkt](https://www.transfermarkt.co.uk/) using [pandas](http://pandas.pydata.org/) for data manipulation through DataFrames."
   ]
  },
  {
   "cell_type": "markdown",
   "metadata": {},
   "source": [
    "## <a id='#section7'>7. Next Steps</a>\n",
    "The step is to use this data to..."
   ]
  },
  {
   "cell_type": "markdown",
   "metadata": {},
   "source": [
    "## <a id='#section8'>8. References</a>\n",
    "\n",
    "#### Data and Web Scraping\n",
    "*    [Beyond crowd judgments: Data-driven estimation of market value in association football](https://www.sciencedirect.com/science/article/pii/S0377221717304332) by Oliver Müllera, Alexander Simons, and Markus Weinmann.\n",
    "*    [06/04/2020: BBC - Premier League squads 'drop £1.6bn in value'](https://www.bbc.co.uk/sport/football/52221463)."
   ]
  },
  {
   "cell_type": "markdown",
   "metadata": {},
   "source": [
    "---\n",
    "\n",
    "***Visit my website [EddWebster.com](https://www.eddwebster.com) or my [GitHub Repository](https://github.com/eddwebster) for more projects. If you'd like to get in contact, my Twitter handle is [@eddwebster](http://www.twitter.com/eddwebster) and my email is: edd.j.webster@gmail.com.***"
   ]
  },
  {
   "cell_type": "markdown",
   "metadata": {},
   "source": [
    "[Back to the top](#top)"
   ]
  }
 ],
 "metadata": {
  "kernelspec": {
   "display_name": "Python 3",
   "language": "python",
   "name": "python3"
  },
  "language_info": {
   "codemirror_mode": {
    "name": "ipython",
    "version": 3
   },
   "file_extension": ".py",
   "mimetype": "text/x-python",
   "name": "python",
   "nbconvert_exporter": "python",
   "pygments_lexer": "ipython3",
   "version": "3.7.6"
  },
  "varInspector": {
   "cols": {
    "lenName": 16,
    "lenType": 16,
    "lenVar": 40
   },
   "kernels_config": {
    "python": {
     "delete_cmd_postfix": "",
     "delete_cmd_prefix": "del ",
     "library": "var_list.py",
     "varRefreshCmd": "print(var_dic_list())"
    },
    "r": {
     "delete_cmd_postfix": ") ",
     "delete_cmd_prefix": "rm(",
     "library": "var_list.r",
     "varRefreshCmd": "cat(var_dic_list()) "
    }
   },
   "oldHeight": 642,
   "position": {
    "height": "664px",
    "left": "1119px",
    "right": "20px",
    "top": "-7px",
    "width": "489px"
   },
   "types_to_exclude": [
    "module",
    "function",
    "builtin_function_or_method",
    "instance",
    "_Feature"
   ],
   "varInspector_section_display": "block",
   "window_display": false
  }
 },
 "nbformat": 4,
 "nbformat_minor": 2
}
