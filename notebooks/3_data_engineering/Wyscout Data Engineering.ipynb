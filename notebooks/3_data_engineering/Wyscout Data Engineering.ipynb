{
 "cells": [
  {
   "cell_type": "markdown",
   "metadata": {},
   "source": [
    "<a id='top'></a>"
   ]
  },
  {
   "cell_type": "markdown",
   "metadata": {},
   "source": [
    "# Data Engineering of Wyscout Data\n",
    "##### Notebook to engineer JSON Event data from [Wyscout](https://wyscout.com/).\n",
    "\n",
    "### By [Edd Webster](https://www.twitter.com/eddwebster)\n",
    "Last updated: 03/09/2020"
   ]
  },
  {
   "cell_type": "markdown",
   "metadata": {},
   "source": [
    "![title](../../img/wyscout_logo.png)"
   ]
  },
  {
   "cell_type": "markdown",
   "metadata": {},
   "source": [
    "Click [here](#section5) to jump straight to the Exploratory Data Analysis section and skip the [Task Brief](#section2), [Data Sources](#section3), and [Data Engineering](#section4) sections. Or click [here](#section6) to jump straight to the Conclusion."
   ]
  },
  {
   "cell_type": "markdown",
   "metadata": {},
   "source": [
    "___\n",
    "\n",
    "<a id='sectionintro'></a>"
   ]
  },
  {
   "cell_type": "markdown",
   "metadata": {},
   "source": [
    "## <a id='import_libraries'>Introduction</a>\n",
    "This notebook engineers [Wyscout](https://wyscout.com/) JSON event data of football matches in the Big 5 European leagues for the 17/18 season using [pandas](http://pandas.pydata.org/) for data manipulation through DataFrames.\n",
    "\n",
    "For more information about this notebook and the author, I'm available through all the following channels:\n",
    "*    [eddwebster.com](https://www.eddwebster.com/),\n",
    "*    edd.j.webster@gmail.com,\n",
    "*    [@eddwebster](https://www.twitter.com/eddwebster),\n",
    "*    [LinkedIn.com/in/eddwebster](https://www.linkedin.com/in/eddwebster/),\n",
    "*    [GitHub/eddwebster](https://github.com/eddwebster/),\n",
    "*    [Kaggle.com/eddwebster](https://www.kaggle.com/eddwebster), and\n",
    "*    [HackerRank.com/eddwebster](https://www.hackerrank.com/eddwebster)."
   ]
  },
  {
   "cell_type": "markdown",
   "metadata": {},
   "source": [
    "The accompanying GitHub repository for this notebook can be found [here](https://github.com/eddwebster/fifa-league) and a static version of this notebook can be found [here](https://nbviewer.jupyter.org/github/eddwebster/fifa-league/blob/master/FIFA%2020%20Fantasy%20Football%20League%20using%20TransferMarkt%20Player%20Valuations.ipynb)."
   ]
  },
  {
   "cell_type": "markdown",
   "metadata": {},
   "source": [
    "___\n",
    "\n",
    "<a id='sectioncontents'></a>"
   ]
  },
  {
   "cell_type": "markdown",
   "metadata": {},
   "source": [
    "## <a id='notebook_contents'>Notebook Contents</a>\n",
    "1.    [Notebook Dependencies](#section1)<br>\n",
    "2.    [Project Brief](#section2)<br>\n",
    "3.    [Data Sources](#section3)<br>\n",
    "      1.    [Introduction](#section3.1)<br>\n",
    "      2.    [Data Dictionary](#section3.2)<br>\n",
    "      3.    [Creating the DataFrame](#section3.3)<br>\n",
    "      4.    [Initial Data Handling](#section3.4)<br>\n",
    "      5.    [Export the Raw DataFrame](#section3.5)<br>         \n",
    "4.    [Data Engineering](#section4)<br>\n",
    "      1.    [Introduction](#section4.1)<br>\n",
    "      2.    [Columns of Interest](#section4.2)<br>\n",
    "      3.    [String Cleaning](#section4.3)<br>\n",
    "      4.    [Converting Data Types](#section4.4)<br>\n",
    "      5.    [Export the Engineered DataFrame](#section4.5)<br>\n",
    "5.    [Exploratory Data Analysis (EDA)](#section5)<br>\n",
    "      1.    [...](#section5.1)<br>\n",
    "      2.    [...](#section5.2)<br>\n",
    "      3.    [...](#section5.3)<br>\n",
    "6.    [Summary](#section6)<br>\n",
    "7.    [Next Steps](#section7)<br>\n",
    "8.    [Bibliography](#section8)<br>"
   ]
  },
  {
   "cell_type": "markdown",
   "metadata": {},
   "source": [
    "___\n",
    "\n",
    "<a id='section1'></a>"
   ]
  },
  {
   "cell_type": "markdown",
   "metadata": {},
   "source": [
    "## <a id='#section1'>1. Notebook Dependencies</a>"
   ]
  },
  {
   "cell_type": "markdown",
   "metadata": {},
   "source": [
    "This notebook was written using [Python 3](https://docs.python.org/3.7/) and requires the following libraries:\n",
    "*    [`Jupyter notebooks`](https://jupyter.org/) for this notebook environment with which this project is presented;\n",
    "*    [`NumPy`](http://www.numpy.org/) for multidimensional array computing;\n",
    "*    [`pandas`](http://pandas.pydata.org/) for data analysis and manipulation; and\n",
    "*    [`matplotlib`](https://matplotlib.org/contents.html?v=20200411155018) for data visualisations;\n",
    "\n",
    "All packages used for this notebook except for BeautifulSoup can be obtained by downloading and installing the [Conda](https://anaconda.org/anaconda/conda) distribution, available on all platforms (Windows, Linux and Mac OSX). Step-by-step guides on how to install Anaconda can be found for Windows [here](https://medium.com/@GalarnykMichael/install-python-on-windows-anaconda-c63c7c3d1444) and Mac [here](https://medium.com/@GalarnykMichael/install-python-on-mac-anaconda-ccd9f2014072), as well as in the Anaconda documentation itself [here](https://docs.anaconda.com/anaconda/install/)."
   ]
  },
  {
   "cell_type": "markdown",
   "metadata": {},
   "source": [
    "### Import Libraries and Modules"
   ]
  },
  {
   "cell_type": "code",
   "execution_count": 1,
   "metadata": {},
   "outputs": [
    {
     "name": "stdout",
     "output_type": "stream",
     "text": [
      "Setup Complete\n"
     ]
    }
   ],
   "source": [
    "# Python ≥3.5 (ideally)\n",
    "import platform\n",
    "import sys, getopt\n",
    "assert sys.version_info >= (3, 5)\n",
    "import csv\n",
    "\n",
    "# Import Dependencies\n",
    "%matplotlib inline\n",
    "\n",
    "# Math Operations\n",
    "import numpy as np\n",
    "from math import pi\n",
    "\n",
    "# Datetime\n",
    "import datetime\n",
    "from datetime import date\n",
    "import time\n",
    "\n",
    "# Data Preprocessing\n",
    "import pandas as pd    # version 1.0.3\n",
    "import os    #  used to read the csv filenames\n",
    "import re\n",
    "import random\n",
    "from io import BytesIO\n",
    "from pathlib import Path\n",
    "\n",
    "# Reading directories\n",
    "import glob\n",
    "import os\n",
    "\n",
    "# Working with JSON\n",
    "import json\n",
    "from pandas.io.json import json_normalize\n",
    "from ast import literal_eval\n",
    "\n",
    "# Data Visualisation\n",
    "import matplotlib as mpl\n",
    "import matplotlib.pyplot as plt\n",
    "import seaborn as sns\n",
    "plt.style.use('seaborn-whitegrid')\n",
    "import missingno as msno    # visually display missing data\n",
    "\n",
    "# Display in Jupyter\n",
    "from IPython.display import Image, YouTubeVideo\n",
    "from IPython.core.display import HTML\n",
    "\n",
    "# Ignore Warnings\n",
    "import warnings\n",
    "warnings.filterwarnings(action=\"ignore\", message=\"^internal gelsd\")\n",
    "\n",
    "print('Setup Complete')"
   ]
  },
  {
   "cell_type": "code",
   "execution_count": 2,
   "metadata": {
    "scrolled": false
   },
   "outputs": [
    {
     "name": "stdout",
     "output_type": "stream",
     "text": [
      "Python: 3.7.6\n",
      "NumPy: 1.18.1\n",
      "pandas: 1.0.1\n",
      "matplotlib: 3.1.3\n",
      "Seaborn: 0.10.0\n"
     ]
    }
   ],
   "source": [
    "# Python / module versions used here for reference\n",
    "print('Python: {}'.format(platform.python_version()))\n",
    "print('NumPy: {}'.format(np.__version__))\n",
    "print('pandas: {}'.format(pd.__version__))\n",
    "print('matplotlib: {}'.format(mpl.__version__))\n",
    "print('Seaborn: {}'.format(sns.__version__))"
   ]
  },
  {
   "cell_type": "markdown",
   "metadata": {},
   "source": [
    "### Defined Filepaths"
   ]
  },
  {
   "cell_type": "code",
   "execution_count": 3,
   "metadata": {},
   "outputs": [],
   "source": [
    "# Set up initial paths to subfolders\n",
    "base_dir = os.path.join('..', '..', )\n",
    "data_dir = os.path.join(base_dir, 'data')\n",
    "data_dir_fbref = os.path.join(base_dir, 'data', 'fbref')\n",
    "data_dir_tm = os.path.join(base_dir, 'data', 'tm')\n",
    "data_dir_wyscout = os.path.join(base_dir, 'data', 'wyscout')\n",
    "img_dir = os.path.join(base_dir, 'img')\n",
    "fig_dir = os.path.join(base_dir, 'img', 'fig')\n",
    "video_dir = os.path.join(base_dir, 'video')"
   ]
  },
  {
   "cell_type": "markdown",
   "metadata": {},
   "source": [
    "### Custom Functions"
   ]
  },
  {
   "cell_type": "code",
   "execution_count": null,
   "metadata": {},
   "outputs": [],
   "source": [
    "# Define custom function to read JSON files that also handles the encoding of special characters e.g. accents in names of players and teams\n",
    "def read_json_file(filename):\n",
    "    with open(filename, 'rb') as json_file:\n",
    "        return BytesIO(json_file.read()).getvalue().decode('unicode_escape')"
   ]
  },
  {
   "cell_type": "markdown",
   "metadata": {},
   "source": [
    "### Notebook Settings"
   ]
  },
  {
   "cell_type": "code",
   "execution_count": null,
   "metadata": {},
   "outputs": [],
   "source": [
    "pd.set_option('display.max_columns', None)"
   ]
  },
  {
   "cell_type": "markdown",
   "metadata": {},
   "source": [
    "---\n",
    "\n",
    "<a id='section2'></a>"
   ]
  },
  {
   "cell_type": "markdown",
   "metadata": {},
   "source": [
    "## <a id='#section2'>2. Project Brief</a>\n",
    "This Jupyter notebook explores how to engineer [Wyscout](https://wyscout.com/) JSON event data of football matches in the Big 5 European leagues for the 17/18 season using [pandas](http://pandas.pydata.org/) for data manipulation through DataFrames.\n",
    "\n",
    "The resulting five engineered DataFrames for each of the Big 5 European league are exported to CSV files. This data can be further analysed in Python, joined to other datasets, or explored using Tableau, PowerBI, Microsoft Excel."
   ]
  },
  {
   "cell_type": "markdown",
   "metadata": {},
   "source": [
    "---\n",
    "\n",
    "<a id='section3'></a>"
   ]
  },
  {
   "cell_type": "markdown",
   "metadata": {},
   "source": [
    "## <a id='#section3'>3. Data Sources</a>"
   ]
  },
  {
   "cell_type": "markdown",
   "metadata": {},
   "source": [
    "### <a id='#section3.1'>3.1. Introduction</a>\n",
    "[Wyscout](https://wyscout.com/) is an Italian company that supports football scouting, match analysis and transfer dynamics. The company was founded in Genoa, Italy in 2004 and provides video analysis tools and digital databases regarding performances and matches for coaches, teams and players dealing with football business.\n",
    "\n",
    "The purpose is to allow them have a detailed sight of a large number of athletes about individual performances, patterns of play and tactical strategy.\n",
    "\n",
    "This notebook explores a complete dataset of event data for the Big 5 European leagues during the 17/18 season.\n",
    "\n",
    "A detailed description of the data can be found in the following paper:\n",
    "- Pappalardo, L., Cintia, P., Rossi, A. et al. **A public data set of spatio-temporal match events in soccer competitions**. Scientific Data 6, 236 (2019) doi:10.1038/s41597-019-0247-7, https://www.nature.com/articles/s41597-019-0247-7\n",
    "\n",
    "It is from this paper import the *matches*, *events*, *players*, *playerank*, *referees*, *coaches*, and *competition* data sets from the <a href=\"https://doi.org/10.6084/m9.figshare.c.4415000.v5\">figshare repository</a>. Data are stored in `.json` format. \n",
    "\n",
    "The complete data set contains:\n",
    "- 1,941 matches\n",
    "- 3,251,294 events\n",
    "- 4,299 players.\n",
    "\n",
    "The datasets we will be using are:\n",
    "- competition\n",
    "- events\n",
    "- matches\n",
    "- players\n",
    "\n",
    "\n",
    "Before conducting our EDA, the data needs to be imported as a DataFrame in the Data Sources section [Section 3](#section3) and cleaned in the Data Engineering section [Section 4](#section4).\n",
    "\n",
    "We'll be using the [pandas](http://pandas.pydata.org/) library to import our data to this workbook as a DataFrame."
   ]
  },
  {
   "cell_type": "markdown",
   "metadata": {},
   "source": [
    "### <a id='#section3.2'>3.2. Data Dictionary</a>\n",
    "The [WyScout](https://www.transfermarkt.co.uk/) Events dataset has twelve features (columns) with the following definitions and data types:\n",
    "\n",
    "| Feature     | Data type    |\n",
    "|------|-----|\n",
    "| `eventId`    | int64     |\n",
    "| `subEventName`    | object     |\n",
    "| `tags`    | object     |\n",
    "| `playerId`    | int64     |\n",
    "| `positions`    | object     |\n",
    "| `matchId`    | int64     |\n",
    "| `eventName`    | object     |\n",
    "| `teamId`    | int64     |\n",
    "| `matchPeriod`    | object     |\n",
    "| `eventSec`    | float64     |\n",
    "| `subEventId`    | object     |\n",
    "| `id`    | int64     |\n",
    "\n",
    "Refer to the Wyscout [API docs](https://apidocs.wyscout.com/) and [Events Manual](https://footballdata.wyscout.com/wp-content/uploads/2018/03/Wyscout-Events-Manual.pdf) for further information about event and subevents."
   ]
  },
  {
   "cell_type": "markdown",
   "metadata": {},
   "source": [
    "### <a id='#section3.3'>3.3. Import Data</a>"
   ]
  },
  {
   "cell_type": "code",
   "execution_count": 4,
   "metadata": {},
   "outputs": [
    {
     "name": "stderr",
     "output_type": "stream",
     "text": [
      "/opt/anaconda3/lib/python3.7/site-packages/IPython/core/interactiveshell.py:3063: DtypeWarning: Columns (25) have mixed types.Specify dtype option on import or set low_memory=False.\n",
      "  interactivity=interactivity, compiler=compiler, result=result)\n"
     ]
    }
   ],
   "source": [
    "df_wyscout_raw = pd.read_csv(data_dir_wyscout + '/raw/csv/combined/wyscout_big5_combined.csv')"
   ]
  },
  {
   "cell_type": "markdown",
   "metadata": {},
   "source": [
    "### <a id='#section3.4'>3.4. Initial Data Handling</a>\n",
    "Let's quality of the dataset by looking first and last rows in pandas using the [head()](https://pandas.pydata.org/pandas-docs/stable/reference/api/pandas.DataFrame.head.html) and [tail()](https://pandas.pydata.org/pandas-docs/stable/reference/api/pandas.DataFrame.tail.html) methods."
   ]
  },
  {
   "cell_type": "code",
   "execution_count": 5,
   "metadata": {},
   "outputs": [
    {
     "data": {
      "text/html": [
       "<div>\n",
       "<style scoped>\n",
       "    .dataframe tbody tr th:only-of-type {\n",
       "        vertical-align: middle;\n",
       "    }\n",
       "\n",
       "    .dataframe tbody tr th {\n",
       "        vertical-align: top;\n",
       "    }\n",
       "\n",
       "    .dataframe thead th {\n",
       "        text-align: right;\n",
       "    }\n",
       "</style>\n",
       "<table border=\"1\" class=\"dataframe\">\n",
       "  <thead>\n",
       "    <tr style=\"text-align: right;\">\n",
       "      <th></th>\n",
       "      <th>eventId</th>\n",
       "      <th>subEventName</th>\n",
       "      <th>tags</th>\n",
       "      <th>playerId</th>\n",
       "      <th>positions</th>\n",
       "      <th>matchId</th>\n",
       "      <th>eventName</th>\n",
       "      <th>teamId</th>\n",
       "      <th>matchPeriod</th>\n",
       "      <th>eventSec</th>\n",
       "      <th>...</th>\n",
       "      <th>height</th>\n",
       "      <th>wyId_x.1</th>\n",
       "      <th>foot</th>\n",
       "      <th>shortName</th>\n",
       "      <th>passportArea.name</th>\n",
       "      <th>role.name</th>\n",
       "      <th>birthArea.name</th>\n",
       "      <th>fullName</th>\n",
       "      <th>teamName</th>\n",
       "      <th>wyId_y.1</th>\n",
       "    </tr>\n",
       "  </thead>\n",
       "  <tbody>\n",
       "    <tr>\n",
       "      <th>0</th>\n",
       "      <td>8</td>\n",
       "      <td>Simple pass</td>\n",
       "      <td>[{'id': 1801}]</td>\n",
       "      <td>25413</td>\n",
       "      <td>[{'y': 49, 'x': 49}, {'y': 78, 'x': 31}]</td>\n",
       "      <td>2499719</td>\n",
       "      <td>Pass</td>\n",
       "      <td>1609</td>\n",
       "      <td>1H</td>\n",
       "      <td>2.758649</td>\n",
       "      <td>...</td>\n",
       "      <td>175</td>\n",
       "      <td>25413</td>\n",
       "      <td>right</td>\n",
       "      <td>A. Lacazette</td>\n",
       "      <td>Guadeloupe</td>\n",
       "      <td>Forward</td>\n",
       "      <td>France</td>\n",
       "      <td>Alexandre Lacazette</td>\n",
       "      <td>Arsenal</td>\n",
       "      <td>1609</td>\n",
       "    </tr>\n",
       "    <tr>\n",
       "      <th>1</th>\n",
       "      <td>1</td>\n",
       "      <td>Air duel</td>\n",
       "      <td>[{'id': 701}, {'id': 1802}]</td>\n",
       "      <td>25413</td>\n",
       "      <td>[{'y': 54, 'x': 71}, {'y': 59, 'x': 50}]</td>\n",
       "      <td>2499719</td>\n",
       "      <td>Duel</td>\n",
       "      <td>1609</td>\n",
       "      <td>1H</td>\n",
       "      <td>22.551816</td>\n",
       "      <td>...</td>\n",
       "      <td>175</td>\n",
       "      <td>25413</td>\n",
       "      <td>right</td>\n",
       "      <td>A. Lacazette</td>\n",
       "      <td>Guadeloupe</td>\n",
       "      <td>Forward</td>\n",
       "      <td>France</td>\n",
       "      <td>Alexandre Lacazette</td>\n",
       "      <td>Arsenal</td>\n",
       "      <td>1609</td>\n",
       "    </tr>\n",
       "    <tr>\n",
       "      <th>2</th>\n",
       "      <td>10</td>\n",
       "      <td>Shot</td>\n",
       "      <td>[{'id': 101}, {'id': 402}, {'id': 201}, {'id':...</td>\n",
       "      <td>25413</td>\n",
       "      <td>[{'y': 41, 'x': 88}, {'y': 0, 'x': 0}]</td>\n",
       "      <td>2499719</td>\n",
       "      <td>Shot</td>\n",
       "      <td>1609</td>\n",
       "      <td>1H</td>\n",
       "      <td>94.595788</td>\n",
       "      <td>...</td>\n",
       "      <td>175</td>\n",
       "      <td>25413</td>\n",
       "      <td>right</td>\n",
       "      <td>A. Lacazette</td>\n",
       "      <td>Guadeloupe</td>\n",
       "      <td>Forward</td>\n",
       "      <td>France</td>\n",
       "      <td>Alexandre Lacazette</td>\n",
       "      <td>Arsenal</td>\n",
       "      <td>1609</td>\n",
       "    </tr>\n",
       "    <tr>\n",
       "      <th>3</th>\n",
       "      <td>8</td>\n",
       "      <td>Head pass</td>\n",
       "      <td>[{'id': 1802}]</td>\n",
       "      <td>25413</td>\n",
       "      <td>[{'y': 70, 'x': 71}, {'y': 63, 'x': 71}]</td>\n",
       "      <td>2499719</td>\n",
       "      <td>Pass</td>\n",
       "      <td>1609</td>\n",
       "      <td>1H</td>\n",
       "      <td>397.881307</td>\n",
       "      <td>...</td>\n",
       "      <td>175</td>\n",
       "      <td>25413</td>\n",
       "      <td>right</td>\n",
       "      <td>A. Lacazette</td>\n",
       "      <td>Guadeloupe</td>\n",
       "      <td>Forward</td>\n",
       "      <td>France</td>\n",
       "      <td>Alexandre Lacazette</td>\n",
       "      <td>Arsenal</td>\n",
       "      <td>1609</td>\n",
       "    </tr>\n",
       "    <tr>\n",
       "      <th>4</th>\n",
       "      <td>1</td>\n",
       "      <td>Ground defending duel</td>\n",
       "      <td>[{'id': 503}, {'id': 701}, {'id': 1802}]</td>\n",
       "      <td>25413</td>\n",
       "      <td>[{'y': 64, 'x': 61}, {'y': 87, 'x': 51}]</td>\n",
       "      <td>2499719</td>\n",
       "      <td>Duel</td>\n",
       "      <td>1609</td>\n",
       "      <td>1H</td>\n",
       "      <td>494.461238</td>\n",
       "      <td>...</td>\n",
       "      <td>175</td>\n",
       "      <td>25413</td>\n",
       "      <td>right</td>\n",
       "      <td>A. Lacazette</td>\n",
       "      <td>Guadeloupe</td>\n",
       "      <td>Forward</td>\n",
       "      <td>France</td>\n",
       "      <td>Alexandre Lacazette</td>\n",
       "      <td>Arsenal</td>\n",
       "      <td>1609</td>\n",
       "    </tr>\n",
       "  </tbody>\n",
       "</table>\n",
       "<p>5 rows × 43 columns</p>\n",
       "</div>"
      ],
      "text/plain": [
       "   eventId           subEventName  \\\n",
       "0        8            Simple pass   \n",
       "1        1               Air duel   \n",
       "2       10                   Shot   \n",
       "3        8              Head pass   \n",
       "4        1  Ground defending duel   \n",
       "\n",
       "                                                tags  playerId  \\\n",
       "0                                     [{'id': 1801}]     25413   \n",
       "1                        [{'id': 701}, {'id': 1802}]     25413   \n",
       "2  [{'id': 101}, {'id': 402}, {'id': 201}, {'id':...     25413   \n",
       "3                                     [{'id': 1802}]     25413   \n",
       "4           [{'id': 503}, {'id': 701}, {'id': 1802}]     25413   \n",
       "\n",
       "                                  positions  matchId eventName  teamId  \\\n",
       "0  [{'y': 49, 'x': 49}, {'y': 78, 'x': 31}]  2499719      Pass    1609   \n",
       "1  [{'y': 54, 'x': 71}, {'y': 59, 'x': 50}]  2499719      Duel    1609   \n",
       "2    [{'y': 41, 'x': 88}, {'y': 0, 'x': 0}]  2499719      Shot    1609   \n",
       "3  [{'y': 70, 'x': 71}, {'y': 63, 'x': 71}]  2499719      Pass    1609   \n",
       "4  [{'y': 64, 'x': 61}, {'y': 87, 'x': 51}]  2499719      Duel    1609   \n",
       "\n",
       "  matchPeriod    eventSec  ...  height  wyId_x.1   foot     shortName  \\\n",
       "0          1H    2.758649  ...     175     25413  right  A. Lacazette   \n",
       "1          1H   22.551816  ...     175     25413  right  A. Lacazette   \n",
       "2          1H   94.595788  ...     175     25413  right  A. Lacazette   \n",
       "3          1H  397.881307  ...     175     25413  right  A. Lacazette   \n",
       "4          1H  494.461238  ...     175     25413  right  A. Lacazette   \n",
       "\n",
       "   passportArea.name  role.name birthArea.name             fullName teamName  \\\n",
       "0         Guadeloupe    Forward         France  Alexandre Lacazette  Arsenal   \n",
       "1         Guadeloupe    Forward         France  Alexandre Lacazette  Arsenal   \n",
       "2         Guadeloupe    Forward         France  Alexandre Lacazette  Arsenal   \n",
       "3         Guadeloupe    Forward         France  Alexandre Lacazette  Arsenal   \n",
       "4         Guadeloupe    Forward         France  Alexandre Lacazette  Arsenal   \n",
       "\n",
       "   wyId_y.1  \n",
       "0      1609  \n",
       "1      1609  \n",
       "2      1609  \n",
       "3      1609  \n",
       "4      1609  \n",
       "\n",
       "[5 rows x 43 columns]"
      ]
     },
     "execution_count": 5,
     "metadata": {},
     "output_type": "execute_result"
    }
   ],
   "source": [
    "# Display the first 5 rows of the raw DataFrame, df_wyscout_raw\n",
    "df_wyscout_raw.head()"
   ]
  },
  {
   "cell_type": "code",
   "execution_count": 6,
   "metadata": {},
   "outputs": [
    {
     "data": {
      "text/html": [
       "<div>\n",
       "<style scoped>\n",
       "    .dataframe tbody tr th:only-of-type {\n",
       "        vertical-align: middle;\n",
       "    }\n",
       "\n",
       "    .dataframe tbody tr th {\n",
       "        vertical-align: top;\n",
       "    }\n",
       "\n",
       "    .dataframe thead th {\n",
       "        text-align: right;\n",
       "    }\n",
       "</style>\n",
       "<table border=\"1\" class=\"dataframe\">\n",
       "  <thead>\n",
       "    <tr style=\"text-align: right;\">\n",
       "      <th></th>\n",
       "      <th>eventId</th>\n",
       "      <th>subEventName</th>\n",
       "      <th>tags</th>\n",
       "      <th>playerId</th>\n",
       "      <th>positions</th>\n",
       "      <th>matchId</th>\n",
       "      <th>eventName</th>\n",
       "      <th>teamId</th>\n",
       "      <th>matchPeriod</th>\n",
       "      <th>eventSec</th>\n",
       "      <th>...</th>\n",
       "      <th>height</th>\n",
       "      <th>wyId_x.1</th>\n",
       "      <th>foot</th>\n",
       "      <th>shortName</th>\n",
       "      <th>passportArea.name</th>\n",
       "      <th>role.name</th>\n",
       "      <th>birthArea.name</th>\n",
       "      <th>fullName</th>\n",
       "      <th>teamName</th>\n",
       "      <th>wyId_y.1</th>\n",
       "    </tr>\n",
       "  </thead>\n",
       "  <tbody>\n",
       "    <tr>\n",
       "      <th>2845352</th>\n",
       "      <td>8</td>\n",
       "      <td>Simple pass</td>\n",
       "      <td>[{'id': 1801}]</td>\n",
       "      <td>516397</td>\n",
       "      <td>[{'y': 68, 'x': 24}, {'y': 29, 'x': 10}]</td>\n",
       "      <td>2565924</td>\n",
       "      <td>Pass</td>\n",
       "      <td>677</td>\n",
       "      <td>2H</td>\n",
       "      <td>2315.506349</td>\n",
       "      <td>...</td>\n",
       "      <td>180</td>\n",
       "      <td>516397</td>\n",
       "      <td>NaN</td>\n",
       "      <td>Mujaid Sadick</td>\n",
       "      <td>Spain</td>\n",
       "      <td>Defender</td>\n",
       "      <td>Spain</td>\n",
       "      <td>Mujaid Sadick Aliu</td>\n",
       "      <td>Deportivo La Coru\\u00f1a</td>\n",
       "      <td>677</td>\n",
       "    </tr>\n",
       "    <tr>\n",
       "      <th>2845353</th>\n",
       "      <td>1</td>\n",
       "      <td>Ground loose ball duel</td>\n",
       "      <td>[{'id': 703}, {'id': 1801}]</td>\n",
       "      <td>516397</td>\n",
       "      <td>[{'y': 65, 'x': 66}, {'y': 63, 'x': 80}]</td>\n",
       "      <td>2565924</td>\n",
       "      <td>Duel</td>\n",
       "      <td>677</td>\n",
       "      <td>2H</td>\n",
       "      <td>2394.530930</td>\n",
       "      <td>...</td>\n",
       "      <td>180</td>\n",
       "      <td>516397</td>\n",
       "      <td>NaN</td>\n",
       "      <td>Mujaid Sadick</td>\n",
       "      <td>Spain</td>\n",
       "      <td>Defender</td>\n",
       "      <td>Spain</td>\n",
       "      <td>Mujaid Sadick Aliu</td>\n",
       "      <td>Deportivo La Coru\\u00f1a</td>\n",
       "      <td>677</td>\n",
       "    </tr>\n",
       "    <tr>\n",
       "      <th>2845354</th>\n",
       "      <td>3</td>\n",
       "      <td>Free Kick</td>\n",
       "      <td>[{'id': 1801}]</td>\n",
       "      <td>516397</td>\n",
       "      <td>[{'y': 70, 'x': 30}, {'y': 91, 'x': 26}]</td>\n",
       "      <td>2565924</td>\n",
       "      <td>Free Kick</td>\n",
       "      <td>677</td>\n",
       "      <td>2H</td>\n",
       "      <td>2511.297877</td>\n",
       "      <td>...</td>\n",
       "      <td>180</td>\n",
       "      <td>516397</td>\n",
       "      <td>NaN</td>\n",
       "      <td>Mujaid Sadick</td>\n",
       "      <td>Spain</td>\n",
       "      <td>Defender</td>\n",
       "      <td>Spain</td>\n",
       "      <td>Mujaid Sadick Aliu</td>\n",
       "      <td>Deportivo La Coru\\u00f1a</td>\n",
       "      <td>677</td>\n",
       "    </tr>\n",
       "    <tr>\n",
       "      <th>2845355</th>\n",
       "      <td>8</td>\n",
       "      <td>Simple pass</td>\n",
       "      <td>[{'id': 1801}]</td>\n",
       "      <td>516397</td>\n",
       "      <td>[{'y': 68, 'x': 26}, {'y': 38, 'x': 24}]</td>\n",
       "      <td>2565924</td>\n",
       "      <td>Pass</td>\n",
       "      <td>677</td>\n",
       "      <td>2H</td>\n",
       "      <td>2516.092456</td>\n",
       "      <td>...</td>\n",
       "      <td>180</td>\n",
       "      <td>516397</td>\n",
       "      <td>NaN</td>\n",
       "      <td>Mujaid Sadick</td>\n",
       "      <td>Spain</td>\n",
       "      <td>Defender</td>\n",
       "      <td>Spain</td>\n",
       "      <td>Mujaid Sadick Aliu</td>\n",
       "      <td>Deportivo La Coru\\u00f1a</td>\n",
       "      <td>677</td>\n",
       "    </tr>\n",
       "    <tr>\n",
       "      <th>2845356</th>\n",
       "      <td>8</td>\n",
       "      <td>Simple pass</td>\n",
       "      <td>[{'id': 1801}]</td>\n",
       "      <td>516397</td>\n",
       "      <td>[{'y': 71, 'x': 38}, {'y': 47, 'x': 45}]</td>\n",
       "      <td>2565924</td>\n",
       "      <td>Pass</td>\n",
       "      <td>677</td>\n",
       "      <td>2H</td>\n",
       "      <td>2701.375749</td>\n",
       "      <td>...</td>\n",
       "      <td>180</td>\n",
       "      <td>516397</td>\n",
       "      <td>NaN</td>\n",
       "      <td>Mujaid Sadick</td>\n",
       "      <td>Spain</td>\n",
       "      <td>Defender</td>\n",
       "      <td>Spain</td>\n",
       "      <td>Mujaid Sadick Aliu</td>\n",
       "      <td>Deportivo La Coru\\u00f1a</td>\n",
       "      <td>677</td>\n",
       "    </tr>\n",
       "  </tbody>\n",
       "</table>\n",
       "<p>5 rows × 43 columns</p>\n",
       "</div>"
      ],
      "text/plain": [
       "         eventId            subEventName                         tags  \\\n",
       "2845352        8             Simple pass               [{'id': 1801}]   \n",
       "2845353        1  Ground loose ball duel  [{'id': 703}, {'id': 1801}]   \n",
       "2845354        3               Free Kick               [{'id': 1801}]   \n",
       "2845355        8             Simple pass               [{'id': 1801}]   \n",
       "2845356        8             Simple pass               [{'id': 1801}]   \n",
       "\n",
       "         playerId                                 positions  matchId  \\\n",
       "2845352    516397  [{'y': 68, 'x': 24}, {'y': 29, 'x': 10}]  2565924   \n",
       "2845353    516397  [{'y': 65, 'x': 66}, {'y': 63, 'x': 80}]  2565924   \n",
       "2845354    516397  [{'y': 70, 'x': 30}, {'y': 91, 'x': 26}]  2565924   \n",
       "2845355    516397  [{'y': 68, 'x': 26}, {'y': 38, 'x': 24}]  2565924   \n",
       "2845356    516397  [{'y': 71, 'x': 38}, {'y': 47, 'x': 45}]  2565924   \n",
       "\n",
       "         eventName  teamId matchPeriod     eventSec  ...  height  wyId_x.1  \\\n",
       "2845352       Pass     677          2H  2315.506349  ...     180    516397   \n",
       "2845353       Duel     677          2H  2394.530930  ...     180    516397   \n",
       "2845354  Free Kick     677          2H  2511.297877  ...     180    516397   \n",
       "2845355       Pass     677          2H  2516.092456  ...     180    516397   \n",
       "2845356       Pass     677          2H  2701.375749  ...     180    516397   \n",
       "\n",
       "        foot      shortName  passportArea.name  role.name birthArea.name  \\\n",
       "2845352  NaN  Mujaid Sadick              Spain   Defender          Spain   \n",
       "2845353  NaN  Mujaid Sadick              Spain   Defender          Spain   \n",
       "2845354  NaN  Mujaid Sadick              Spain   Defender          Spain   \n",
       "2845355  NaN  Mujaid Sadick              Spain   Defender          Spain   \n",
       "2845356  NaN  Mujaid Sadick              Spain   Defender          Spain   \n",
       "\n",
       "                   fullName                  teamName  wyId_y.1  \n",
       "2845352  Mujaid Sadick Aliu  Deportivo La Coru\\u00f1a       677  \n",
       "2845353  Mujaid Sadick Aliu  Deportivo La Coru\\u00f1a       677  \n",
       "2845354  Mujaid Sadick Aliu  Deportivo La Coru\\u00f1a       677  \n",
       "2845355  Mujaid Sadick Aliu  Deportivo La Coru\\u00f1a       677  \n",
       "2845356  Mujaid Sadick Aliu  Deportivo La Coru\\u00f1a       677  \n",
       "\n",
       "[5 rows x 43 columns]"
      ]
     },
     "execution_count": 6,
     "metadata": {},
     "output_type": "execute_result"
    }
   ],
   "source": [
    "# Display the last 5 rows of the raw DataFrame, df_wyscout_raw\n",
    "df_wyscout_raw.tail()"
   ]
  },
  {
   "cell_type": "code",
   "execution_count": 7,
   "metadata": {},
   "outputs": [
    {
     "name": "stdout",
     "output_type": "stream",
     "text": [
      "(2845357, 43)\n"
     ]
    }
   ],
   "source": [
    "# Print the shape of the raw DataFrame, ddf_wyscout_raw\n",
    "print(df_wyscout_raw.shape)"
   ]
  },
  {
   "cell_type": "code",
   "execution_count": 8,
   "metadata": {},
   "outputs": [
    {
     "name": "stdout",
     "output_type": "stream",
     "text": [
      "Index(['eventId', 'subEventName', 'tags', 'playerId', 'positions', 'matchId',\n",
      "       'eventName', 'teamId', 'matchPeriod', 'eventSec', 'subEventId', 'id',\n",
      "       'status', 'roundId', 'gameweek', 'seasonId', 'dateutc', 'winner',\n",
      "       'venue', 'wyId_x', 'label', 'date', 'referees', 'duration',\n",
      "       'competitionId', 'league_name', 'wyId_y', 'country', 'weight',\n",
      "       'firstName', 'middleName', 'lastName', 'birthDate', 'height',\n",
      "       'wyId_x.1', 'foot', 'shortName', 'passportArea.name', 'role.name',\n",
      "       'birthArea.name', 'fullName', 'teamName', 'wyId_y.1'],\n",
      "      dtype='object')\n"
     ]
    }
   ],
   "source": [
    "# Print the column names of the raw DataFrame, df_wyscout_raw\n",
    "print(df_wyscout_raw.columns)"
   ]
  },
  {
   "cell_type": "markdown",
   "metadata": {},
   "source": [
    "The dataset has six features (columns). Full details of these attributes can be found in the [Data Dictionary](section3.3.1)."
   ]
  },
  {
   "cell_type": "code",
   "execution_count": 9,
   "metadata": {},
   "outputs": [
    {
     "data": {
      "text/plain": [
       "eventId                int64\n",
       "subEventName          object\n",
       "tags                  object\n",
       "playerId               int64\n",
       "positions             object\n",
       "matchId                int64\n",
       "eventName             object\n",
       "teamId                 int64\n",
       "matchPeriod           object\n",
       "eventSec             float64\n",
       "subEventId           float64\n",
       "id                     int64\n",
       "status                object\n",
       "roundId                int64\n",
       "gameweek               int64\n",
       "seasonId               int64\n",
       "dateutc               object\n",
       "winner                 int64\n",
       "venue                 object\n",
       "wyId_x                 int64\n",
       "label                 object\n",
       "date                  object\n",
       "referees              object\n",
       "duration              object\n",
       "competitionId          int64\n",
       "league_name           object\n",
       "wyId_y                 int64\n",
       "country               object\n",
       "weight                 int64\n",
       "firstName             object\n",
       "middleName           float64\n",
       "lastName              object\n",
       "birthDate             object\n",
       "height                 int64\n",
       "wyId_x.1               int64\n",
       "foot                  object\n",
       "shortName             object\n",
       "passportArea.name     object\n",
       "role.name             object\n",
       "birthArea.name        object\n",
       "fullName              object\n",
       "teamName              object\n",
       "wyId_y.1               int64\n",
       "dtype: object"
      ]
     },
     "execution_count": 9,
     "metadata": {},
     "output_type": "execute_result"
    }
   ],
   "source": [
    "# Data types of the features of the raw DataFrame, df_wyscout_raw\n",
    "df_wyscout_raw.dtypes"
   ]
  },
  {
   "cell_type": "markdown",
   "metadata": {},
   "source": [
    "All six of the columns have the object data type. Full details of these attributes and their data types can be found in the [Data Dictionary](section3.3.1)."
   ]
  },
  {
   "cell_type": "code",
   "execution_count": 10,
   "metadata": {},
   "outputs": [
    {
     "name": "stdout",
     "output_type": "stream",
     "text": [
      "<class 'pandas.core.frame.DataFrame'>\n",
      "RangeIndex: 2845357 entries, 0 to 2845356\n",
      "Data columns (total 43 columns):\n",
      " #   Column             Dtype  \n",
      "---  ------             -----  \n",
      " 0   eventId            int64  \n",
      " 1   subEventName       object \n",
      " 2   tags               object \n",
      " 3   playerId           int64  \n",
      " 4   positions          object \n",
      " 5   matchId            int64  \n",
      " 6   eventName          object \n",
      " 7   teamId             int64  \n",
      " 8   matchPeriod        object \n",
      " 9   eventSec           float64\n",
      " 10  subEventId         float64\n",
      " 11  id                 int64  \n",
      " 12  status             object \n",
      " 13  roundId            int64  \n",
      " 14  gameweek           int64  \n",
      " 15  seasonId           int64  \n",
      " 16  dateutc            object \n",
      " 17  winner             int64  \n",
      " 18  venue              object \n",
      " 19  wyId_x             int64  \n",
      " 20  label              object \n",
      " 21  date               object \n",
      " 22  referees           object \n",
      " 23  duration           object \n",
      " 24  competitionId      int64  \n",
      " 25  league_name        object \n",
      " 26  wyId_y             int64  \n",
      " 27  country            object \n",
      " 28  weight             int64  \n",
      " 29  firstName          object \n",
      " 30  middleName         float64\n",
      " 31  lastName           object \n",
      " 32  birthDate          object \n",
      " 33  height             int64  \n",
      " 34  wyId_x.1           int64  \n",
      " 35  foot               object \n",
      " 36  shortName          object \n",
      " 37  passportArea.name  object \n",
      " 38  role.name          object \n",
      " 39  birthArea.name     object \n",
      " 40  fullName           object \n",
      " 41  teamName           object \n",
      " 42  wyId_y.1           int64  \n",
      "dtypes: float64(3), int64(16), object(24)\n",
      "memory usage: 933.5+ MB\n"
     ]
    }
   ],
   "source": [
    "# Info for the raw DataFrame, df_wyscout_raw\n",
    "df_wyscout_raw.info()"
   ]
  },
  {
   "cell_type": "code",
   "execution_count": 11,
   "metadata": {},
   "outputs": [
    {
     "data": {
      "text/html": [
       "<div>\n",
       "<style scoped>\n",
       "    .dataframe tbody tr th:only-of-type {\n",
       "        vertical-align: middle;\n",
       "    }\n",
       "\n",
       "    .dataframe tbody tr th {\n",
       "        vertical-align: top;\n",
       "    }\n",
       "\n",
       "    .dataframe thead th {\n",
       "        text-align: right;\n",
       "    }\n",
       "</style>\n",
       "<table border=\"1\" class=\"dataframe\">\n",
       "  <thead>\n",
       "    <tr style=\"text-align: right;\">\n",
       "      <th></th>\n",
       "      <th>eventId</th>\n",
       "      <th>playerId</th>\n",
       "      <th>matchId</th>\n",
       "      <th>teamId</th>\n",
       "      <th>eventSec</th>\n",
       "      <th>subEventId</th>\n",
       "      <th>id</th>\n",
       "      <th>roundId</th>\n",
       "      <th>gameweek</th>\n",
       "      <th>seasonId</th>\n",
       "      <th>winner</th>\n",
       "      <th>wyId_x</th>\n",
       "      <th>competitionId</th>\n",
       "      <th>wyId_y</th>\n",
       "      <th>weight</th>\n",
       "      <th>middleName</th>\n",
       "      <th>height</th>\n",
       "      <th>wyId_x.1</th>\n",
       "      <th>wyId_y.1</th>\n",
       "    </tr>\n",
       "  </thead>\n",
       "  <tbody>\n",
       "    <tr>\n",
       "      <th>count</th>\n",
       "      <td>2.845357e+06</td>\n",
       "      <td>2.845357e+06</td>\n",
       "      <td>2.845357e+06</td>\n",
       "      <td>2.845357e+06</td>\n",
       "      <td>2.845357e+06</td>\n",
       "      <td>2.837564e+06</td>\n",
       "      <td>2.845357e+06</td>\n",
       "      <td>2.845357e+06</td>\n",
       "      <td>2.845357e+06</td>\n",
       "      <td>2.845357e+06</td>\n",
       "      <td>2.845357e+06</td>\n",
       "      <td>2.845357e+06</td>\n",
       "      <td>2.845357e+06</td>\n",
       "      <td>2.845357e+06</td>\n",
       "      <td>2.845357e+06</td>\n",
       "      <td>0.0</td>\n",
       "      <td>2.845357e+06</td>\n",
       "      <td>2.845357e+06</td>\n",
       "      <td>2.845357e+06</td>\n",
       "    </tr>\n",
       "    <tr>\n",
       "      <th>mean</th>\n",
       "      <td>5.693304e+00</td>\n",
       "      <td>9.086818e+04</td>\n",
       "      <td>2.532543e+06</td>\n",
       "      <td>2.602999e+03</td>\n",
       "      <td>1.391895e+03</td>\n",
       "      <td>6.012407e+01</td>\n",
       "      <td>2.176981e+08</td>\n",
       "      <td>4.405858e+06</td>\n",
       "      <td>1.920911e+01</td>\n",
       "      <td>1.811753e+05</td>\n",
       "      <td>2.009395e+03</td>\n",
       "      <td>2.532543e+06</td>\n",
       "      <td>5.063107e+02</td>\n",
       "      <td>5.063107e+02</td>\n",
       "      <td>7.619891e+01</td>\n",
       "      <td>NaN</td>\n",
       "      <td>1.820422e+02</td>\n",
       "      <td>9.086818e+04</td>\n",
       "      <td>2.602999e+03</td>\n",
       "    </tr>\n",
       "    <tr>\n",
       "      <th>std</th>\n",
       "      <td>3.141016e+00</td>\n",
       "      <td>1.184798e+05</td>\n",
       "      <td>3.312629e+04</td>\n",
       "      <td>2.219126e+03</td>\n",
       "      <td>8.343107e+02</td>\n",
       "      <td>3.257677e+01</td>\n",
       "      <td>2.125972e+07</td>\n",
       "      <td>2.972835e+02</td>\n",
       "      <td>1.077176e+01</td>\n",
       "      <td>4.167794e+01</td>\n",
       "      <td>2.519555e+03</td>\n",
       "      <td>3.312629e+04</td>\n",
       "      <td>1.557932e+02</td>\n",
       "      <td>1.557932e+02</td>\n",
       "      <td>7.144579e+00</td>\n",
       "      <td>NaN</td>\n",
       "      <td>6.973521e+00</td>\n",
       "      <td>1.184798e+05</td>\n",
       "      <td>2.219126e+03</td>\n",
       "    </tr>\n",
       "    <tr>\n",
       "      <th>min</th>\n",
       "      <td>1.000000e+00</td>\n",
       "      <td>3.300000e+01</td>\n",
       "      <td>2.499719e+06</td>\n",
       "      <td>6.740000e+02</td>\n",
       "      <td>0.000000e+00</td>\n",
       "      <td>1.000000e+01</td>\n",
       "      <td>1.761216e+08</td>\n",
       "      <td>4.405517e+06</td>\n",
       "      <td>1.000000e+00</td>\n",
       "      <td>1.811370e+05</td>\n",
       "      <td>0.000000e+00</td>\n",
       "      <td>2.499719e+06</td>\n",
       "      <td>3.640000e+02</td>\n",
       "      <td>3.640000e+02</td>\n",
       "      <td>0.000000e+00</td>\n",
       "      <td>NaN</td>\n",
       "      <td>0.000000e+00</td>\n",
       "      <td>3.300000e+01</td>\n",
       "      <td>6.740000e+02</td>\n",
       "    </tr>\n",
       "    <tr>\n",
       "      <th>25%</th>\n",
       "      <td>1.000000e+00</td>\n",
       "      <td>9.414000e+03</td>\n",
       "      <td>2.500762e+06</td>\n",
       "      <td>1.612000e+03</td>\n",
       "      <td>6.626598e+02</td>\n",
       "      <td>1.300000e+01</td>\n",
       "      <td>2.006414e+08</td>\n",
       "      <td>4.405654e+06</td>\n",
       "      <td>1.000000e+01</td>\n",
       "      <td>1.811440e+05</td>\n",
       "      <td>6.740000e+02</td>\n",
       "      <td>2.500762e+06</td>\n",
       "      <td>4.120000e+02</td>\n",
       "      <td>4.120000e+02</td>\n",
       "      <td>7.200000e+01</td>\n",
       "      <td>NaN</td>\n",
       "      <td>1.780000e+02</td>\n",
       "      <td>9.414000e+03</td>\n",
       "      <td>1.612000e+03</td>\n",
       "    </tr>\n",
       "    <tr>\n",
       "      <th>50%</th>\n",
       "      <td>8.000000e+00</td>\n",
       "      <td>2.559600e+04</td>\n",
       "      <td>2.516893e+06</td>\n",
       "      <td>2.454000e+03</td>\n",
       "      <td>1.376945e+03</td>\n",
       "      <td>8.300000e+01</td>\n",
       "      <td>2.186668e+08</td>\n",
       "      <td>4.405655e+06</td>\n",
       "      <td>1.900000e+01</td>\n",
       "      <td>1.811500e+05</td>\n",
       "      <td>1.625000e+03</td>\n",
       "      <td>2.516893e+06</td>\n",
       "      <td>4.260000e+02</td>\n",
       "      <td>4.260000e+02</td>\n",
       "      <td>7.600000e+01</td>\n",
       "      <td>NaN</td>\n",
       "      <td>1.820000e+02</td>\n",
       "      <td>2.559600e+04</td>\n",
       "      <td>2.454000e+03</td>\n",
       "    </tr>\n",
       "    <tr>\n",
       "      <th>75%</th>\n",
       "      <td>8.000000e+00</td>\n",
       "      <td>1.371610e+05</td>\n",
       "      <td>2.565856e+06</td>\n",
       "      <td>3.197000e+03</td>\n",
       "      <td>2.110599e+03</td>\n",
       "      <td>8.500000e+01</td>\n",
       "      <td>2.337595e+08</td>\n",
       "      <td>4.406122e+06</td>\n",
       "      <td>2.800000e+01</td>\n",
       "      <td>1.811890e+05</td>\n",
       "      <td>3.164000e+03</td>\n",
       "      <td>2.565856e+06</td>\n",
       "      <td>5.240000e+02</td>\n",
       "      <td>5.240000e+02</td>\n",
       "      <td>8.100000e+01</td>\n",
       "      <td>NaN</td>\n",
       "      <td>1.860000e+02</td>\n",
       "      <td>1.371610e+05</td>\n",
       "      <td>3.197000e+03</td>\n",
       "    </tr>\n",
       "    <tr>\n",
       "      <th>max</th>\n",
       "      <td>1.000000e+01</td>\n",
       "      <td>5.685830e+05</td>\n",
       "      <td>2.576338e+06</td>\n",
       "      <td>1.983000e+04</td>\n",
       "      <td>3.537356e+03</td>\n",
       "      <td>1.000000e+02</td>\n",
       "      <td>2.562365e+08</td>\n",
       "      <td>4.406278e+06</td>\n",
       "      <td>3.800000e+01</td>\n",
       "      <td>1.812480e+05</td>\n",
       "      <td>1.983000e+04</td>\n",
       "      <td>2.576338e+06</td>\n",
       "      <td>7.950000e+02</td>\n",
       "      <td>7.950000e+02</td>\n",
       "      <td>1.010000e+02</td>\n",
       "      <td>NaN</td>\n",
       "      <td>2.030000e+02</td>\n",
       "      <td>5.685830e+05</td>\n",
       "      <td>1.983000e+04</td>\n",
       "    </tr>\n",
       "  </tbody>\n",
       "</table>\n",
       "</div>"
      ],
      "text/plain": [
       "            eventId      playerId       matchId        teamId      eventSec  \\\n",
       "count  2.845357e+06  2.845357e+06  2.845357e+06  2.845357e+06  2.845357e+06   \n",
       "mean   5.693304e+00  9.086818e+04  2.532543e+06  2.602999e+03  1.391895e+03   \n",
       "std    3.141016e+00  1.184798e+05  3.312629e+04  2.219126e+03  8.343107e+02   \n",
       "min    1.000000e+00  3.300000e+01  2.499719e+06  6.740000e+02  0.000000e+00   \n",
       "25%    1.000000e+00  9.414000e+03  2.500762e+06  1.612000e+03  6.626598e+02   \n",
       "50%    8.000000e+00  2.559600e+04  2.516893e+06  2.454000e+03  1.376945e+03   \n",
       "75%    8.000000e+00  1.371610e+05  2.565856e+06  3.197000e+03  2.110599e+03   \n",
       "max    1.000000e+01  5.685830e+05  2.576338e+06  1.983000e+04  3.537356e+03   \n",
       "\n",
       "         subEventId            id       roundId      gameweek      seasonId  \\\n",
       "count  2.837564e+06  2.845357e+06  2.845357e+06  2.845357e+06  2.845357e+06   \n",
       "mean   6.012407e+01  2.176981e+08  4.405858e+06  1.920911e+01  1.811753e+05   \n",
       "std    3.257677e+01  2.125972e+07  2.972835e+02  1.077176e+01  4.167794e+01   \n",
       "min    1.000000e+01  1.761216e+08  4.405517e+06  1.000000e+00  1.811370e+05   \n",
       "25%    1.300000e+01  2.006414e+08  4.405654e+06  1.000000e+01  1.811440e+05   \n",
       "50%    8.300000e+01  2.186668e+08  4.405655e+06  1.900000e+01  1.811500e+05   \n",
       "75%    8.500000e+01  2.337595e+08  4.406122e+06  2.800000e+01  1.811890e+05   \n",
       "max    1.000000e+02  2.562365e+08  4.406278e+06  3.800000e+01  1.812480e+05   \n",
       "\n",
       "             winner        wyId_x  competitionId        wyId_y        weight  \\\n",
       "count  2.845357e+06  2.845357e+06   2.845357e+06  2.845357e+06  2.845357e+06   \n",
       "mean   2.009395e+03  2.532543e+06   5.063107e+02  5.063107e+02  7.619891e+01   \n",
       "std    2.519555e+03  3.312629e+04   1.557932e+02  1.557932e+02  7.144579e+00   \n",
       "min    0.000000e+00  2.499719e+06   3.640000e+02  3.640000e+02  0.000000e+00   \n",
       "25%    6.740000e+02  2.500762e+06   4.120000e+02  4.120000e+02  7.200000e+01   \n",
       "50%    1.625000e+03  2.516893e+06   4.260000e+02  4.260000e+02  7.600000e+01   \n",
       "75%    3.164000e+03  2.565856e+06   5.240000e+02  5.240000e+02  8.100000e+01   \n",
       "max    1.983000e+04  2.576338e+06   7.950000e+02  7.950000e+02  1.010000e+02   \n",
       "\n",
       "       middleName        height      wyId_x.1      wyId_y.1  \n",
       "count         0.0  2.845357e+06  2.845357e+06  2.845357e+06  \n",
       "mean          NaN  1.820422e+02  9.086818e+04  2.602999e+03  \n",
       "std           NaN  6.973521e+00  1.184798e+05  2.219126e+03  \n",
       "min           NaN  0.000000e+00  3.300000e+01  6.740000e+02  \n",
       "25%           NaN  1.780000e+02  9.414000e+03  1.612000e+03  \n",
       "50%           NaN  1.820000e+02  2.559600e+04  2.454000e+03  \n",
       "75%           NaN  1.860000e+02  1.371610e+05  3.197000e+03  \n",
       "max           NaN  2.030000e+02  5.685830e+05  1.983000e+04  "
      ]
     },
     "execution_count": 11,
     "metadata": {},
     "output_type": "execute_result"
    }
   ],
   "source": [
    "# Description of the raw DataFrame, df_wyscout_raw, showing some summary statistics for each numberical column in the DataFrame\n",
    "df_wyscout_raw.describe()"
   ]
  },
  {
   "cell_type": "code",
   "execution_count": 12,
   "metadata": {
    "scrolled": true
   },
   "outputs": [
    {
     "data": {
      "text/plain": [
       "<matplotlib.axes._subplots.AxesSubplot at 0x1a1a1120d0>"
      ]
     },
     "execution_count": 12,
     "metadata": {},
     "output_type": "execute_result"
    },
    {
     "data": {
      "image/png": "[encoded data removed]",
      "text/plain": [
       "<Figure size 2160x504 with 2 Axes>"
      ]
     },
     "metadata": {},
     "output_type": "display_data"
    }
   ],
   "source": [
    "# Plot visualisation of the missing values for each feature of the raw DataFrame, df_wyscout_raw\n",
    "msno.matrix(df_wyscout_raw, figsize = (30, 7))"
   ]
  },
  {
   "cell_type": "code",
   "execution_count": 13,
   "metadata": {},
   "outputs": [
    {
     "data": {
      "text/plain": [
       "subEventName       7793\n",
       "subEventId         7793\n",
       "venue            166662\n",
       "league_name      600585\n",
       "middleName      2845357\n",
       "foot                609\n",
       "dtype: int64"
      ]
     },
     "execution_count": 13,
     "metadata": {},
     "output_type": "execute_result"
    }
   ],
   "source": [
    "# Counts of missing values\n",
    "tm_null_value_stats = df_wyscout_raw.isnull().sum(axis=0)\n",
    "tm_null_value_stats[tm_null_value_stats != 0]"
   ]
  },
  {
   "cell_type": "markdown",
   "metadata": {},
   "source": [
    "The visualisation shows us very quickly that there a few missing values in the `value` column, but otherwise the dataset is complete."
   ]
  },
  {
   "cell_type": "markdown",
   "metadata": {},
   "source": [
    "---"
   ]
  },
  {
   "cell_type": "markdown",
   "metadata": {},
   "source": [
    "## <a id='#section4'>4. Data Engineering</a>"
   ]
  },
  {
   "cell_type": "markdown",
   "metadata": {},
   "source": [
    "### <a id='#section4.1'>4.1. Introduction</a>\n",
    "..."
   ]
  },
  {
   "cell_type": "markdown",
   "metadata": {},
   "source": [
    "### <a id='#section4.2'>4.2. Assign Raw DataFrame to Engineered DataFrame</a>"
   ]
  },
  {
   "cell_type": "code",
   "execution_count": 14,
   "metadata": {},
   "outputs": [],
   "source": [
    "# Assign Raw DataFrame to Engineered DataFrame\n",
    "df_wyscout = df_wyscout_raw"
   ]
  },
  {
   "cell_type": "markdown",
   "metadata": {},
   "source": [
    "### <a id='#section4.2'>4.2. String Cleaning</a>"
   ]
  },
  {
   "cell_type": "markdown",
   "metadata": {},
   "source": [
    "##### Split `Label` column into seperate `Fixture` and `Score` columns"
   ]
  },
  {
   "cell_type": "code",
   "execution_count": 15,
   "metadata": {},
   "outputs": [],
   "source": [
    "# Break down 'Label' column into constituent parts - Fixtures, Score, Date, Home Goals, Away Goals, etc.\n",
    "df_wyscout['fixture'] = df_wyscout['label'].str.split(', ').str[0]\n",
    "df_wyscout['score_home_away'] = df_wyscout['label'].str.split(', ').str[1]\n",
    "df_wyscout['team_home'] = df_wyscout['fixture'].str.split(' - ').str[0]\n",
    "df_wyscout['team_away'] = df_wyscout['fixture'].str.split(' - ').str[1]\n",
    "df_wyscout['goals_home'] = df_wyscout['score_home_away'].str.split(' - ').str[0]\n",
    "df_wyscout['goals_away'] = df_wyscout['score_home_away'].str.split(' - ').str[1]"
   ]
  },
  {
   "cell_type": "markdown",
   "metadata": {},
   "source": [
    "##### Split `date` column into seperate `date_isolated` and `time_isolated` columns"
   ]
  },
  {
   "cell_type": "code",
   "execution_count": 16,
   "metadata": {},
   "outputs": [],
   "source": [
    "df_wyscout['date_isolated'] = df_wyscout['date'].str.split(' at').str[0]\n",
    "df_wyscout['time_isolated'] = df_wyscout['date'].str.split(' at ').str[1]\n",
    "df_wyscout['date_time_isolated'] = df_wyscout['date'].str.split(' GMT').str[0].str.replace(' at ', ' ', regex=True)"
   ]
  },
  {
   "cell_type": "markdown",
   "metadata": {},
   "source": [
    "### <a id='#section4.3'>4.3. Convert Data Types</a>"
   ]
  },
  {
   "cell_type": "code",
   "execution_count": 17,
   "metadata": {},
   "outputs": [],
   "source": [
    "df_wyscout['date_time_timestamp'] = df_wyscout['date_time_isolated'].astype('datetime64[ns]')\n",
    "df_wyscout['date_date'] = df_wyscout['date_time_timestamp'].dt.strftime('%d-%m-%Y')\n",
    "df_wyscout['time_time'] = df_wyscout['date_time_timestamp'].dt.time"
   ]
  },
  {
   "cell_type": "markdown",
   "metadata": {},
   "source": [
    "### <a id='#section4.4'>4.4. Drop columns</a>\n",
    "As this is a large dataset with >3mil rows, we will remove every column that is not required at this stage."
   ]
  },
  {
   "cell_type": "code",
   "execution_count": 18,
   "metadata": {},
   "outputs": [
    {
     "data": {
      "text/plain": [
       "Index(['eventId', 'subEventName', 'tags', 'playerId', 'positions', 'matchId',\n",
       "       'eventName', 'teamId', 'matchPeriod', 'eventSec', 'subEventId', 'id',\n",
       "       'status', 'roundId', 'gameweek', 'seasonId', 'dateutc', 'winner',\n",
       "       'venue', 'wyId_x', 'label', 'date', 'referees', 'duration',\n",
       "       'competitionId', 'league_name', 'wyId_y', 'country', 'weight',\n",
       "       'firstName', 'middleName', 'lastName', 'birthDate', 'height',\n",
       "       'wyId_x.1', 'foot', 'shortName', 'passportArea.name', 'role.name',\n",
       "       'birthArea.name', 'fullName', 'teamName', 'wyId_y.1', 'fixture',\n",
       "       'score_home_away', 'team_home', 'team_away', 'goals_home', 'goals_away',\n",
       "       'date_isolated', 'time_isolated', 'date_time_isolated',\n",
       "       'date_time_timestamp', 'date_date', 'time_time'],\n",
       "      dtype='object')"
      ]
     },
     "execution_count": 18,
     "metadata": {},
     "output_type": "execute_result"
    }
   ],
   "source": [
    "# Display columns\n",
    "df_wyscout.columns"
   ]
  },
  {
   "cell_type": "code",
   "execution_count": 19,
   "metadata": {
    "scrolled": true
   },
   "outputs": [],
   "source": [
    "# df_wyscout = df_wyscout.drop(['tags', 'dateutc', 'wyId_x', 'label', 'date', 'referees', 'wyId_y', 'date_isolated', 'time_isolated', 'date_time_isolated'])"
   ]
  },
  {
   "cell_type": "markdown",
   "metadata": {},
   "source": [
    "### <a id='#section4.5'>4.5. Create New Attributes</a>"
   ]
  },
  {
   "cell_type": "markdown",
   "metadata": {},
   "source": [
    "##### Create full fixture data from broken down attributes created in section 4.2."
   ]
  },
  {
   "cell_type": "code",
   "execution_count": 20,
   "metadata": {},
   "outputs": [],
   "source": [
    "df_wyscout['full_fixture_date'] = df_wyscout['date_date'].astype(str) + ' ' + df_wyscout['team_home'].astype(str)  + ' ' + df_wyscout['goals_home'].astype(str) + ' ' + ' v ' + ' ' + df_wyscout['goals_away'].astype(str) + ' ' + df_wyscout['team_away'].astype(str) "
   ]
  },
  {
   "cell_type": "markdown",
   "metadata": {},
   "source": [
    "##### Create 'season' attribute"
   ]
  },
  {
   "cell_type": "code",
   "execution_count": 21,
   "metadata": {},
   "outputs": [],
   "source": [
    "df_wyscout['season'] = '17/18'"
   ]
  },
  {
   "cell_type": "markdown",
   "metadata": {},
   "source": [
    "### <a id='#section4.5'>4.5. Reorder DataFrame</a>\n",
    "Correctly order all the rows in the DataFrame by date, time, country, fixture, half, and time in the match. Important when looking at events and the following event e.g. is possession retains? Which player receives the pass, etc."
   ]
  },
  {
   "cell_type": "code",
   "execution_count": 22,
   "metadata": {
    "scrolled": true
   },
   "outputs": [],
   "source": [
    "df_wyscout = df_wyscout.sort_values(['date_date', 'time_time', 'country', 'league_name', 'full_fixture_date', 'matchPeriod', 'eventSec'], ascending=[True, True, True, True, True, True, True])"
   ]
  },
  {
   "cell_type": "markdown",
   "metadata": {},
   "source": [
    "### <a id='#section4.6'>4.6. Create New Attributes</a>"
   ]
  },
  {
   "cell_type": "markdown",
   "metadata": {},
   "source": [
    "##### Create `followingPossession` column\n",
    "'teamIdNext' = following 'teamId'"
   ]
  },
  {
   "cell_type": "code",
   "execution_count": 23,
   "metadata": {},
   "outputs": [],
   "source": [
    "df_wyscout['teamIdNext'] = df_wyscout['teamId'].shift(-1)\n",
    "df_wyscout['teamNameNext'] = df_wyscout['teamName'].shift(-1)\n",
    "df_wyscout['fullNameNext'] = df_wyscout['fullName'].shift(-1)"
   ]
  },
  {
   "cell_type": "code",
   "execution_count": 24,
   "metadata": {},
   "outputs": [
    {
     "data": {
      "text/html": [
       "<div>\n",
       "<style scoped>\n",
       "    .dataframe tbody tr th:only-of-type {\n",
       "        vertical-align: middle;\n",
       "    }\n",
       "\n",
       "    .dataframe tbody tr th {\n",
       "        vertical-align: top;\n",
       "    }\n",
       "\n",
       "    .dataframe thead th {\n",
       "        text-align: right;\n",
       "    }\n",
       "</style>\n",
       "<table border=\"1\" class=\"dataframe\">\n",
       "  <thead>\n",
       "    <tr style=\"text-align: right;\">\n",
       "      <th></th>\n",
       "      <th>eventId</th>\n",
       "      <th>subEventName</th>\n",
       "      <th>tags</th>\n",
       "      <th>playerId</th>\n",
       "      <th>positions</th>\n",
       "      <th>matchId</th>\n",
       "      <th>eventName</th>\n",
       "      <th>teamId</th>\n",
       "      <th>matchPeriod</th>\n",
       "      <th>eventSec</th>\n",
       "      <th>...</th>\n",
       "      <th>time_isolated</th>\n",
       "      <th>date_time_isolated</th>\n",
       "      <th>date_time_timestamp</th>\n",
       "      <th>date_date</th>\n",
       "      <th>time_time</th>\n",
       "      <th>full_fixture_date</th>\n",
       "      <th>season</th>\n",
       "      <th>teamIdNext</th>\n",
       "      <th>teamNameNext</th>\n",
       "      <th>fullNameNext</th>\n",
       "    </tr>\n",
       "  </thead>\n",
       "  <tbody>\n",
       "    <tr>\n",
       "      <th>751436</th>\n",
       "      <td>8</td>\n",
       "      <td>Simple pass</td>\n",
       "      <td>[{'id': 1801}]</td>\n",
       "      <td>134351</td>\n",
       "      <td>[{'y': 50, 'x': 50}, {'y': 57, 'x': 40}]</td>\n",
       "      <td>2499930</td>\n",
       "      <td>Pass</td>\n",
       "      <td>1659</td>\n",
       "      <td>1H</td>\n",
       "      <td>1.914449</td>\n",
       "      <td>...</td>\n",
       "      <td>1:30:00 PM GMT+1</td>\n",
       "      <td>January 1, 2018 1:30:00 PM</td>\n",
       "      <td>2018-01-01 13:30:00</td>\n",
       "      <td>01-01-2018</td>\n",
       "      <td>13:30:00</td>\n",
       "      <td>01-01-2018 Brighton &amp; Hove Albion 2  v  2 AFC ...</td>\n",
       "      <td>17/18</td>\n",
       "      <td>1659.0</td>\n",
       "      <td>AFC Bournemouth</td>\n",
       "      <td>Lewis Cook</td>\n",
       "    </tr>\n",
       "    <tr>\n",
       "      <th>759304</th>\n",
       "      <td>8</td>\n",
       "      <td>Simple pass</td>\n",
       "      <td>[{'id': 1801}]</td>\n",
       "      <td>302518</td>\n",
       "      <td>[{'y': 57, 'x': 40}, {'y': 12, 'x': 33}]</td>\n",
       "      <td>2499930</td>\n",
       "      <td>Pass</td>\n",
       "      <td>1659</td>\n",
       "      <td>1H</td>\n",
       "      <td>2.784230</td>\n",
       "      <td>...</td>\n",
       "      <td>1:30:00 PM GMT+1</td>\n",
       "      <td>January 1, 2018 1:30:00 PM</td>\n",
       "      <td>2018-01-01 13:30:00</td>\n",
       "      <td>01-01-2018</td>\n",
       "      <td>13:30:00</td>\n",
       "      <td>01-01-2018 Brighton &amp; Hove Albion 2  v  2 AFC ...</td>\n",
       "      <td>17/18</td>\n",
       "      <td>1659.0</td>\n",
       "      <td>AFC Bournemouth</td>\n",
       "      <td>Charlie Daniels</td>\n",
       "    </tr>\n",
       "    <tr>\n",
       "      <th>736890</th>\n",
       "      <td>8</td>\n",
       "      <td>Simple pass</td>\n",
       "      <td>[{'id': 1801}]</td>\n",
       "      <td>9285</td>\n",
       "      <td>[{'y': 12, 'x': 33}, {'y': 4, 'x': 38}]</td>\n",
       "      <td>2499930</td>\n",
       "      <td>Pass</td>\n",
       "      <td>1659</td>\n",
       "      <td>1H</td>\n",
       "      <td>5.040106</td>\n",
       "      <td>...</td>\n",
       "      <td>1:30:00 PM GMT+1</td>\n",
       "      <td>January 1, 2018 1:30:00 PM</td>\n",
       "      <td>2018-01-01 13:30:00</td>\n",
       "      <td>01-01-2018</td>\n",
       "      <td>13:30:00</td>\n",
       "      <td>01-01-2018 Brighton &amp; Hove Albion 2  v  2 AFC ...</td>\n",
       "      <td>17/18</td>\n",
       "      <td>1659.0</td>\n",
       "      <td>AFC Bournemouth</td>\n",
       "      <td>Marc Pugh</td>\n",
       "    </tr>\n",
       "    <tr>\n",
       "      <th>750888</th>\n",
       "      <td>8</td>\n",
       "      <td>Simple pass</td>\n",
       "      <td>[{'id': 1801}]</td>\n",
       "      <td>9293</td>\n",
       "      <td>[{'y': 4, 'x': 38}, {'y': 26, 'x': 41}]</td>\n",
       "      <td>2499930</td>\n",
       "      <td>Pass</td>\n",
       "      <td>1659</td>\n",
       "      <td>1H</td>\n",
       "      <td>6.544869</td>\n",
       "      <td>...</td>\n",
       "      <td>1:30:00 PM GMT+1</td>\n",
       "      <td>January 1, 2018 1:30:00 PM</td>\n",
       "      <td>2018-01-01 13:30:00</td>\n",
       "      <td>01-01-2018</td>\n",
       "      <td>13:30:00</td>\n",
       "      <td>01-01-2018 Brighton &amp; Hove Albion 2  v  2 AFC ...</td>\n",
       "      <td>17/18</td>\n",
       "      <td>1659.0</td>\n",
       "      <td>AFC Bournemouth</td>\n",
       "      <td>Harry Arter</td>\n",
       "    </tr>\n",
       "    <tr>\n",
       "      <th>738894</th>\n",
       "      <td>8</td>\n",
       "      <td>Simple pass</td>\n",
       "      <td>[{'id': 1801}]</td>\n",
       "      <td>9283</td>\n",
       "      <td>[{'y': 26, 'x': 41}, {'y': 10, 'x': 53}]</td>\n",
       "      <td>2499930</td>\n",
       "      <td>Pass</td>\n",
       "      <td>1659</td>\n",
       "      <td>1H</td>\n",
       "      <td>8.245745</td>\n",
       "      <td>...</td>\n",
       "      <td>1:30:00 PM GMT+1</td>\n",
       "      <td>January 1, 2018 1:30:00 PM</td>\n",
       "      <td>2018-01-01 13:30:00</td>\n",
       "      <td>01-01-2018</td>\n",
       "      <td>13:30:00</td>\n",
       "      <td>01-01-2018 Brighton &amp; Hove Albion 2  v  2 AFC ...</td>\n",
       "      <td>17/18</td>\n",
       "      <td>1659.0</td>\n",
       "      <td>AFC Bournemouth</td>\n",
       "      <td>Marc Pugh</td>\n",
       "    </tr>\n",
       "  </tbody>\n",
       "</table>\n",
       "<p>5 rows × 60 columns</p>\n",
       "</div>"
      ],
      "text/plain": [
       "        eventId subEventName            tags  playerId  \\\n",
       "751436        8  Simple pass  [{'id': 1801}]    134351   \n",
       "759304        8  Simple pass  [{'id': 1801}]    302518   \n",
       "736890        8  Simple pass  [{'id': 1801}]      9285   \n",
       "750888        8  Simple pass  [{'id': 1801}]      9293   \n",
       "738894        8  Simple pass  [{'id': 1801}]      9283   \n",
       "\n",
       "                                       positions  matchId eventName  teamId  \\\n",
       "751436  [{'y': 50, 'x': 50}, {'y': 57, 'x': 40}]  2499930      Pass    1659   \n",
       "759304  [{'y': 57, 'x': 40}, {'y': 12, 'x': 33}]  2499930      Pass    1659   \n",
       "736890   [{'y': 12, 'x': 33}, {'y': 4, 'x': 38}]  2499930      Pass    1659   \n",
       "750888   [{'y': 4, 'x': 38}, {'y': 26, 'x': 41}]  2499930      Pass    1659   \n",
       "738894  [{'y': 26, 'x': 41}, {'y': 10, 'x': 53}]  2499930      Pass    1659   \n",
       "\n",
       "       matchPeriod  eventSec  ...     time_isolated  \\\n",
       "751436          1H  1.914449  ...  1:30:00 PM GMT+1   \n",
       "759304          1H  2.784230  ...  1:30:00 PM GMT+1   \n",
       "736890          1H  5.040106  ...  1:30:00 PM GMT+1   \n",
       "750888          1H  6.544869  ...  1:30:00 PM GMT+1   \n",
       "738894          1H  8.245745  ...  1:30:00 PM GMT+1   \n",
       "\n",
       "                date_time_isolated date_time_timestamp   date_date  time_time  \\\n",
       "751436  January 1, 2018 1:30:00 PM 2018-01-01 13:30:00  01-01-2018   13:30:00   \n",
       "759304  January 1, 2018 1:30:00 PM 2018-01-01 13:30:00  01-01-2018   13:30:00   \n",
       "736890  January 1, 2018 1:30:00 PM 2018-01-01 13:30:00  01-01-2018   13:30:00   \n",
       "750888  January 1, 2018 1:30:00 PM 2018-01-01 13:30:00  01-01-2018   13:30:00   \n",
       "738894  January 1, 2018 1:30:00 PM 2018-01-01 13:30:00  01-01-2018   13:30:00   \n",
       "\n",
       "                                        full_fixture_date season  teamIdNext  \\\n",
       "751436  01-01-2018 Brighton & Hove Albion 2  v  2 AFC ...  17/18      1659.0   \n",
       "759304  01-01-2018 Brighton & Hove Albion 2  v  2 AFC ...  17/18      1659.0   \n",
       "736890  01-01-2018 Brighton & Hove Albion 2  v  2 AFC ...  17/18      1659.0   \n",
       "750888  01-01-2018 Brighton & Hove Albion 2  v  2 AFC ...  17/18      1659.0   \n",
       "738894  01-01-2018 Brighton & Hove Albion 2  v  2 AFC ...  17/18      1659.0   \n",
       "\n",
       "           teamNameNext     fullNameNext  \n",
       "751436  AFC Bournemouth       Lewis Cook  \n",
       "759304  AFC Bournemouth  Charlie Daniels  \n",
       "736890  AFC Bournemouth        Marc Pugh  \n",
       "750888  AFC Bournemouth      Harry Arter  \n",
       "738894  AFC Bournemouth        Marc Pugh  \n",
       "\n",
       "[5 rows x 60 columns]"
      ]
     },
     "execution_count": 24,
     "metadata": {},
     "output_type": "execute_result"
    }
   ],
   "source": [
    "df_wyscout.head()"
   ]
  },
  {
   "cell_type": "markdown",
   "metadata": {},
   "source": [
    "##### Create `player2player` column"
   ]
  },
  {
   "cell_type": "code",
   "execution_count": 25,
   "metadata": {},
   "outputs": [],
   "source": [
    "df_wyscout['player2player'] = df_wyscout['fullName'] + ' - ' + df_wyscout['fullNameNext']"
   ]
  },
  {
   "cell_type": "markdown",
   "metadata": {},
   "source": [
    "##### Create `isPossessionRetained` column\n",
    "When `teamId` is not followed by the same `teamId` in the following row, possession is lost. We want to creat a column that stats this."
   ]
  },
  {
   "cell_type": "code",
   "execution_count": 26,
   "metadata": {},
   "outputs": [],
   "source": [
    "df_wyscout['isPossessionRetained'] = np.where(df_wyscout['teamId'] == df_wyscout['teamIdNext'], True, False)"
   ]
  },
  {
   "cell_type": "markdown",
   "metadata": {},
   "source": [
    "##### Clean Positions data"
   ]
  },
  {
   "cell_type": "code",
   "execution_count": 27,
   "metadata": {},
   "outputs": [],
   "source": [
    "# CODE HERE"
   ]
  },
  {
   "cell_type": "markdown",
   "metadata": {},
   "source": [
    "### <a id='#section4.7'>4.7. Export DataFrame</a>"
   ]
  },
  {
   "cell_type": "markdown",
   "metadata": {},
   "source": [
    "##### Break down data into individual matches"
   ]
  },
  {
   "cell_type": "code",
   "execution_count": 28,
   "metadata": {},
   "outputs": [],
   "source": [
    "lst_results = list(df_wyscout['full_fixture_date'].unique())"
   ]
  },
  {
   "cell_type": "code",
   "execution_count": 29,
   "metadata": {},
   "outputs": [],
   "source": [
    "for i, g in df_wyscout.groupby('full_fixture_date'):\n",
    "    g.to_csv(data_dir_wyscout + '/engineered/individual_matches/{}.csv'.format(i), header=True, index_label=True)"
   ]
  },
  {
   "cell_type": "markdown",
   "metadata": {},
   "source": [
    "##### Complete dataset"
   ]
  },
  {
   "cell_type": "code",
   "execution_count": 31,
   "metadata": {},
   "outputs": [],
   "source": [
    "df_wyscout.to_csv(data_dir_wyscout + '/engineered/combined/wyscout_events_big5_1718.csv', index=None, header=True)"
   ]
  },
  {
   "cell_type": "markdown",
   "metadata": {},
   "source": [
    "### <a id='#section4.8'>4.8. Aggregate Data</a>"
   ]
  },
  {
   "cell_type": "markdown",
   "metadata": {},
   "source": [
    "#### <a id='#section4.8.1'>4.8.1. Fixture Level</a>"
   ]
  },
  {
   "cell_type": "code",
   "execution_count": null,
   "metadata": {},
   "outputs": [],
   "source": [
    "# Select columns of interest\n",
    "\n",
    "## Define columns\n",
    "cols = ['season',\n",
    "        'date_time_timestamp',\n",
    "        'fixture',\n",
    "        'team_home',\n",
    "        'team_away',\n",
    "        'teamName',\n",
    "        'goals_home',\n",
    "        'goals_away',\n",
    "        'eventName',\n",
    "        'subEventName'\n",
    "       ]\n",
    "\n",
    "## Streamline DataFrame with columns of interest\n",
    "df_wyscout_select = df_wyscout[cols]\n",
    "\n",
    "## \n",
    "df_wyscout_select['Opponent'] = np.where(df_wyscout_select['team_home'] == df_wyscout_select['teamName'], df_wyscout_select['team_away'], df_wyscout_select['team_home'])"
   ]
  },
  {
   "cell_type": "code",
   "execution_count": null,
   "metadata": {},
   "outputs": [],
   "source": [
    "#\n",
    "\n",
    "## Group DataFrame and Aggregate on 'eventName'\n",
    "df_wyscout_fixture_grouped = (df_wyscout_select\n",
    "                                  .groupby(['season', 'date_time_timestamp', 'fixture', 'teamName', 'Opponent', 'goals_home', 'goals_away', 'eventName'])\n",
    "                                  .agg({'eventName': ['count']})\n",
    "                             )\n",
    "\n",
    "## Drop level\n",
    "df_wyscout_fixture_grouped.columns = df_wyscout_fixture_grouped.columns.droplevel(level=0)\n",
    "\n",
    "\n",
    "## Reset index\n",
    "df_wyscout_fixture_grouped = df_wyscout_fixture_grouped.reset_index()\n",
    "\n",
    "## Rename columns\n",
    "df_wyscout_fixture_grouped = df_wyscout_fixture_grouped.rename(columns={'season': 'Season',\n",
    "                                                                        'date_time_timestamp': 'Date',\n",
    "                                                                        'fixture': 'Fixture',\n",
    "                                                                        'teamName': 'Team',\n",
    "                                                                        'Opponent': 'Opponent',\n",
    "                                                                        'goals_home': 'Goals_Home',\n",
    "                                                                        'goals_away': 'Goals_Away',\n",
    "                                                                        'eventName': 'Event',\n",
    "                                                                        'count': 'Team_Value'\n",
    "                                                                       }\n",
    "                                                              )\n",
    "\n",
    "## Display DataFrame\n",
    "df_wyscout_fixture_grouped.head()"
   ]
  },
  {
   "cell_type": "code",
   "execution_count": null,
   "metadata": {},
   "outputs": [],
   "source": [
    "# Select columns of interest\n",
    "\n",
    "## Define columns\n",
    "cols = ['Season',\n",
    "        'Date',\n",
    "        'Fixture',\n",
    "        'Team',\n",
    "        'Opponent',\n",
    "        'Event',\n",
    "        'Team_Value'\n",
    "       ]\n",
    "\n",
    "## Streamline DataFrame with columns of interest\n",
    "df_wyscout_fixture_grouped_select = df_wyscout_fixture_grouped[cols]"
   ]
  },
  {
   "cell_type": "code",
   "execution_count": null,
   "metadata": {},
   "outputs": [],
   "source": [
    "# Join DataFrame to itself on 'Date', 'Fixture', 'Team'/'Opponent', and 'Event', to join Team and Opponent together\n",
    "df_wyscout_fixture_grouped = pd.merge(df_wyscout_fixture_grouped, df_wyscout_fixture_grouped,  how='left', left_on=['Season', 'Date', 'Fixture', 'Opponent', 'Event'], right_on = ['Season', 'Date', 'Fixture', 'Team', 'Event'])"
   ]
  },
  {
   "cell_type": "code",
   "execution_count": null,
   "metadata": {},
   "outputs": [],
   "source": [
    "# Clean Data\n",
    "\n",
    "## Drop columns\n",
    "df_wyscout_fixture_grouped = df_wyscout_fixture_grouped.drop(columns=['Team_y', 'Opponent_y', 'Goals_Home_y', 'Goals_Away_y'])\n",
    "\n",
    "## Rename columns\n",
    "df_wyscout_fixture_grouped = df_wyscout_fixture_grouped.rename(columns={'Season_x': 'Season',\n",
    "                                                                        'Team_x': 'Team',\n",
    "                                                                        'Opponent_x': 'Opponent',\n",
    "                                                                        'Goals_Home_x': 'Goals_Home',\n",
    "                                                                        'Goals_Away_x': 'Goals_Away',\n",
    "                                                                        'Team_Value_x': 'Team_Value',\n",
    "                                                                        'Team_Value_y': 'Opponent_Value',\n",
    "                                                                       }\n",
    "                                                                  )\n",
    "\n",
    "## Replace null values with zeros\n",
    "df_wyscout_fixture_grouped['Team_Value'] = df_wyscout_fixture_grouped['Team_Value'].replace(np.nan, 0)\n",
    "df_wyscout_fixture_grouped['Opponent_Value'] = df_wyscout_fixture_grouped['Opponent_Value'].replace(np.nan, 0)\n",
    "\n",
    "## Convert Opponent_Value' from Float64 to Int64 type\n",
    "df_wyscout_fixture_grouped['Opponent_Value'] = df_wyscout_fixture_grouped['Opponent_Value'].astype('Int64')\n",
    "\n",
    "## Display DataFrame\n",
    "df_wyscout_fixture_grouped.head()"
   ]
  },
  {
   "cell_type": "code",
   "execution_count": null,
   "metadata": {},
   "outputs": [],
   "source": [
    "#\n",
    "\n",
    "##\n",
    "df_fixture_gw = (df_wyscout_fixture_grouped\n",
    "                     .groupby(['Date', 'Team'])\n",
    "                     .agg({'Team': ['nunique']})\n",
    "                )\n",
    "\n",
    "##\n",
    "df_fixture_gw.columns = df_fixture_gw.columns.droplevel(level=0)\n",
    "\n",
    "\n",
    "##\n",
    "df_fixture_gw = df_fixture_gw.reset_index()\n",
    "\n",
    "##\n",
    "df_fixture_gw = df_fixture_gw.rename(columns={'Date': 'Date',\n",
    "                                              'nunique': 'Gameweek',\n",
    "                                             }\n",
    "                                    )\n",
    "\n",
    "## Groupby. See: https://stackoverflow.com/questions/18554920/pandas-aggregate-count-distinct\n",
    "df_fixture_gw = (df_fixture_gw.groupby(['Team', 'Date']).sum()\n",
    "                              .groupby(level=0).cumsum().reset_index()\n",
    "                )\n",
    "\n",
    "## Display DataFrame\n",
    "df_fixture_gw.head()"
   ]
  },
  {
   "cell_type": "code",
   "execution_count": null,
   "metadata": {},
   "outputs": [],
   "source": [
    "# Join DataFrame \n",
    "df_wyscout_fixture_grouped = pd.merge(df_wyscout_fixture_grouped, df_fixture_gw, how='left', left_on=['Date', 'Team'], right_on = ['Date', 'Team'])\n",
    "\n",
    "# Display DataFrame\n",
    "df_wyscout_fixture_grouped.head(50)"
   ]
  },
  {
   "cell_type": "markdown",
   "metadata": {},
   "source": [
    "##### Export DataFrame"
   ]
  },
  {
   "cell_type": "code",
   "execution_count": null,
   "metadata": {},
   "outputs": [],
   "source": [
    "df_wyscout_fixture_grouped.to_csv(data_dir_wyscout + '/engineered/combined/wyscout_aggregated_fixtures_big5_1718.csv', index=None, header=True)"
   ]
  },
  {
   "cell_type": "markdown",
   "metadata": {},
   "source": [
    "#### <a id='#section4.8.2'>4.8.2. Team Level</a>"
   ]
  },
  {
   "cell_type": "code",
   "execution_count": null,
   "metadata": {},
   "outputs": [],
   "source": [
    "# Group DataFrame by Team\n",
    "\n",
    "##\n",
    "df_wyscout_team_grouped = (df_wyscout_fixture_grouped\n",
    "                               .groupby(['Team', 'Event'])\n",
    "                               .agg({'Team_Value': ['sum'],\n",
    "                                     'Opponent_Value': ['sum']\n",
    "                                    }\n",
    "                                   )\n",
    "                          )\n",
    "\n",
    "##\n",
    "df_wyscout_team_grouped.columns = df_wyscout_team_grouped.columns.droplevel(level=0)\n",
    "\n",
    "##\n",
    "df_wyscout_team_grouped = df_wyscout_team_grouped.reset_index()\n",
    "\n",
    "## Rename columns\n",
    "df_wyscout_team_grouped.columns = ['Team', 'Event', 'Team_Value', 'Opponent_Value']\n",
    "\n",
    "## Display columns\n",
    "df_wyscout_team_grouped.head()"
   ]
  },
  {
   "cell_type": "markdown",
   "metadata": {},
   "source": [
    "##### Export DataFrame"
   ]
  },
  {
   "cell_type": "code",
   "execution_count": null,
   "metadata": {},
   "outputs": [],
   "source": [
    "df_wyscout_team_grouped.to_csv(data_dir_wyscout + '/engineered/combined/wyscout_aggregated_team_big5_1718.csv', index=None, header=True)"
   ]
  },
  {
   "cell_type": "markdown",
   "metadata": {},
   "source": [
    "---"
   ]
  },
  {
   "cell_type": "markdown",
   "metadata": {},
   "source": [
    "## <a id='#section5'>5. Exploratory Data Analysis</a>\n",
    "..."
   ]
  },
  {
   "cell_type": "markdown",
   "metadata": {},
   "source": [
    "---"
   ]
  },
  {
   "cell_type": "markdown",
   "metadata": {},
   "source": [
    "## <a id='#section6'>6. Summary</a>\n",
    "This notebook scrapes data for player valuations using [Beautifulsoup](https://pypi.org/project/beautifulsoup4/) from [TransferMarkt](https://www.transfermarkt.co.uk/) using [pandas](http://pandas.pydata.org/) for data maniuplation through DataFrames and [Beautifulsoup](https://pypi.org/project/beautifulsoup4/) for webscraping."
   ]
  },
  {
   "cell_type": "markdown",
   "metadata": {},
   "source": [
    "---"
   ]
  },
  {
   "cell_type": "markdown",
   "metadata": {},
   "source": [
    "## <a id='#section7'>7. Next Steps</a>\n",
    "..."
   ]
  },
  {
   "cell_type": "markdown",
   "metadata": {},
   "source": [
    "---"
   ]
  },
  {
   "cell_type": "markdown",
   "metadata": {},
   "source": [
    "## <a id='#section8'>8. References</a>"
   ]
  },
  {
   "cell_type": "markdown",
   "metadata": {},
   "source": [
    "### <a id='#section9.1'>8.1. Bibliography</a>\n",
    "\n",
    "#### Data and Web Scraping\n",
    "*    WyScout: https://wyscout.com/\n",
    "*    WyScout Events data manual: https://footballdata.wyscout.com/events-manual/\n",
    "*    Pappalardo, Luca; Massucco, Emanuele (2019): Soccer match event dataset. figshare. Collection. https://doi.org/10.6084/m9.figshare.c.4415000.v5\n",
    "*    Pappalardo, L., Cintia, P., Rossi, A. et al. **A public data set of spatio-temporal match events in soccer competitions**. Scientific Data 6, 236 (2019) doi:10.1038/s41597-019-0247-7, https://www.nature.com/articles/s41597-019-0247-7"
   ]
  },
  {
   "cell_type": "markdown",
   "metadata": {},
   "source": [
    "### <a id='#section9.2'>8.2. Python Techniques Observed</a>\n",
    "To conduct our analysis, we have used the following libraries and modules for the following tasks:\n",
    "*    [NumPy](http://www.numpy.org/) for multidimensional array computing,\n",
    "*    [pandas](http://pandas.pydata.org/) for data manipulation and ingestion, and\n",
    "*    [Beautifulsoup](https://www.crummy.com/software/BeautifulSoup/bs4/doc/) for scraping data from webpages.\n",
    "\n",
    "We have also demonstrated an array of techniques in Python using the following methods and functions:\n",
    "*    pandas EDA methods:\n",
    "     +    [head()](https://pandas.pydata.org/pandas-docs/stable/reference/api/pandas.DataFrame.head.html),\n",
    "     +    [tail()](https://pandas.pydata.org/pandas-docs/stable/reference/api/pandas.DataFrame.tail.html),\n",
    "     +    [shape](https://pandas.pydata.org/pandas-docs/stable/reference/api/pandas.DataFrame.dtypes.html),\n",
    "     +    [columns](https://pandas.pydata.org/pandas-docs/stable/reference/api/pandas.DataFrame.columns.html),\n",
    "     +    [dtypes](https://pandas.pydata.org/pandas-docs/stable/reference/api/pandas.DataFrame.dtypes.html),\n",
    "     +    [info](https://pandas.pydata.org/pandas-docs/stable/reference/api/pandas.DataFrame.info.html), and\n",
    "     +    [describe](https://pandas.pydata.org/pandas-docs/stable/reference/api/pandas.DataFrame.describe.html).\n",
    "*    The [missingno](https://pypi.org/project/missingno/) library to visualise how many missing values we have in the dataset, and\n",
    "*    The pandas [.to_csv()](https://pandas.pydata.org/pandas-docs/stable/reference/api/pandas.DataFrame.to_csv.html) method to export the DataFrames as csv files."
   ]
  },
  {
   "cell_type": "markdown",
   "metadata": {},
   "source": [
    "---\n",
    "\n",
    "***Visit my website [EddWebster.com](https://www.eddwebster.com) or my [GitHub Repository](https://github.com/eddwebster) for more projects. If you'd like to get in contact, my Twitter handle is [@eddwebster](http://www.twitter.com/eddwebster) and my email is: edd.j.webster@gmail.com.***"
   ]
  },
  {
   "cell_type": "markdown",
   "metadata": {},
   "source": [
    "[Back to the top](#top)"
   ]
  }
 ],
 "metadata": {
  "kernelspec": {
   "display_name": "Python 3",
   "language": "python",
   "name": "python3"
  },
  "language_info": {
   "codemirror_mode": {
    "name": "ipython",
    "version": 3
   },
   "file_extension": ".py",
   "mimetype": "text/x-python",
   "name": "python",
   "nbconvert_exporter": "python",
   "pygments_lexer": "ipython3",
   "version": "3.7.6"
  },
  "varInspector": {
   "cols": {
    "lenName": 16,
    "lenType": 16,
    "lenVar": 40
   },
   "kernels_config": {
    "python": {
     "delete_cmd_postfix": "",
     "delete_cmd_prefix": "del ",
     "library": "var_list.py",
     "varRefreshCmd": "print(var_dic_list())"
    },
    "r": {
     "delete_cmd_postfix": ") ",
     "delete_cmd_prefix": "rm(",
     "library": "var_list.r",
     "varRefreshCmd": "cat(var_dic_list()) "
    }
   },
   "oldHeight": 642,
   "position": {
    "height": "664px",
    "left": "1119px",
    "right": "20px",
    "top": "-7px",
    "width": "489px"
   },
   "types_to_exclude": [
    "module",
    "function",
    "builtin_function_or_method",
    "instance",
    "_Feature"
   ],
   "varInspector_section_display": "block",
   "window_display": false
  }
 },
 "nbformat": 4,
 "nbformat_minor": 2
}
